{
 "cells": [
  {
   "cell_type": "code",
   "execution_count": 12,
   "id": "b9238e4d",
   "metadata": {},
   "outputs": [],
   "source": [
    "import pandas\n",
    "df = pandas.read_csv('covid_retake.csv')"
   ]
  },
  {
   "cell_type": "code",
   "execution_count": 13,
   "id": "6e90e30a",
   "metadata": {},
   "outputs": [
    {
     "data": {
      "text/html": [
       "<div>\n",
       "<style scoped>\n",
       "    .dataframe tbody tr th:only-of-type {\n",
       "        vertical-align: middle;\n",
       "    }\n",
       "\n",
       "    .dataframe tbody tr th {\n",
       "        vertical-align: top;\n",
       "    }\n",
       "\n",
       "    .dataframe thead th {\n",
       "        text-align: right;\n",
       "    }\n",
       "</style>\n",
       "<table border=\"1\" class=\"dataframe\">\n",
       "  <thead>\n",
       "    <tr style=\"text-align: right;\">\n",
       "      <th></th>\n",
       "      <th>Unnamed: 0</th>\n",
       "      <th>Date</th>\n",
       "      <th>Country</th>\n",
       "      <th>New_cases</th>\n",
       "      <th>New_deaths</th>\n",
       "      <th>New_recovered</th>\n",
       "      <th>Region</th>\n",
       "    </tr>\n",
       "  </thead>\n",
       "  <tbody>\n",
       "    <tr>\n",
       "      <th>0</th>\n",
       "      <td>0</td>\n",
       "      <td>2020-01-22</td>\n",
       "      <td>Afghanistan</td>\n",
       "      <td>0</td>\n",
       "      <td>0</td>\n",
       "      <td>0</td>\n",
       "      <td>Eastern Mediterranean</td>\n",
       "    </tr>\n",
       "    <tr>\n",
       "      <th>1</th>\n",
       "      <td>1</td>\n",
       "      <td>2020-01-22</td>\n",
       "      <td>Albania</td>\n",
       "      <td>0</td>\n",
       "      <td>0</td>\n",
       "      <td>0</td>\n",
       "      <td>Europe</td>\n",
       "    </tr>\n",
       "    <tr>\n",
       "      <th>2</th>\n",
       "      <td>2</td>\n",
       "      <td>2020-01-22</td>\n",
       "      <td>Algeria</td>\n",
       "      <td>0</td>\n",
       "      <td>0</td>\n",
       "      <td>0</td>\n",
       "      <td>Africa</td>\n",
       "    </tr>\n",
       "    <tr>\n",
       "      <th>3</th>\n",
       "      <td>3</td>\n",
       "      <td>2020-01-22</td>\n",
       "      <td>Andorra</td>\n",
       "      <td>0</td>\n",
       "      <td>0</td>\n",
       "      <td>0</td>\n",
       "      <td>Europe</td>\n",
       "    </tr>\n",
       "    <tr>\n",
       "      <th>4</th>\n",
       "      <td>4</td>\n",
       "      <td>2020-01-22</td>\n",
       "      <td>Angola</td>\n",
       "      <td>0</td>\n",
       "      <td>0</td>\n",
       "      <td>0</td>\n",
       "      <td>Africa</td>\n",
       "    </tr>\n",
       "  </tbody>\n",
       "</table>\n",
       "</div>"
      ],
      "text/plain": [
       "   Unnamed: 0        Date      Country  New_cases  New_deaths  New_recovered  \\\n",
       "0           0  2020-01-22  Afghanistan          0           0              0   \n",
       "1           1  2020-01-22      Albania          0           0              0   \n",
       "2           2  2020-01-22      Algeria          0           0              0   \n",
       "3           3  2020-01-22      Andorra          0           0              0   \n",
       "4           4  2020-01-22       Angola          0           0              0   \n",
       "\n",
       "                  Region  \n",
       "0  Eastern Mediterranean  \n",
       "1                 Europe  \n",
       "2                 Africa  \n",
       "3                 Europe  \n",
       "4                 Africa  "
      ]
     },
     "execution_count": 13,
     "metadata": {},
     "output_type": "execute_result"
    }
   ],
   "source": [
    "df.head()"
   ]
  },
  {
   "cell_type": "code",
   "execution_count": 22,
   "id": "d8649540",
   "metadata": {},
   "outputs": [
    {
     "data": {
      "text/plain": [
       "<bound method NDFrame.head of        Unnamed: 0        Date         Country  New_cases  New_deaths  \\\n",
       "2               2  2020-01-22         Algeria          0           0   \n",
       "4               4  2020-01-22          Angola          0           0   \n",
       "18             18  2020-01-22           Benin          0           0   \n",
       "22             22  2020-01-22        Botswana          0           0   \n",
       "26             26  2020-01-22    Burkina Faso          0           0   \n",
       "...           ...         ...             ...        ...         ...   \n",
       "35138       35138  2020-07-27            Togo          6           0   \n",
       "35143       35143  2020-07-27          Uganda         13           0   \n",
       "35152       35152  2020-07-27  Western Sahara          0           0   \n",
       "35154       35154  2020-07-27          Zambia         71           1   \n",
       "35155       35155  2020-07-27        Zimbabwe        192           2   \n",
       "\n",
       "       New_recovered  Region  \n",
       "2                  0  Africa  \n",
       "4                  0  Africa  \n",
       "18                 0  Africa  \n",
       "22                 0  Africa  \n",
       "26                 0  Africa  \n",
       "...              ...     ...  \n",
       "35138              8  Africa  \n",
       "35143              4  Africa  \n",
       "35152              0  Africa  \n",
       "35154            465  Africa  \n",
       "35155             24  Africa  \n",
       "\n",
       "[9024 rows x 7 columns]>"
      ]
     },
     "execution_count": 22,
     "metadata": {},
     "output_type": "execute_result"
    }
   ],
   "source": [
    "#1.\n",
    "df2 = df[df[\"Region\"] == \"Africa\"]\n",
    "df2.shape\n"
   ]
  },
  {
   "cell_type": "code",
   "execution_count": 21,
   "id": "567e73f1",
   "metadata": {},
   "outputs": [
    {
     "data": {
      "text/plain": [
       "(188, 7)"
      ]
     },
     "execution_count": 21,
     "metadata": {},
     "output_type": "execute_result"
    }
   ],
   "source": [
    "#2.\n",
    "df3  = df[df[\"Country\"] == \"Egypt\"]\n",
    "df3.shape"
   ]
  },
  {
   "cell_type": "code",
   "execution_count": 25,
   "id": "16418323",
   "metadata": {},
   "outputs": [
    {
     "data": {
      "text/plain": [
       "0.687657624094652"
      ]
     },
     "execution_count": 25,
     "metadata": {},
     "output_type": "execute_result"
    }
   ],
   "source": [
    "#3.\n",
    "df4 = df[df['Region'] == \"Americas\"]\n",
    "df4['New_cases'].corr(df4['New_recovered'])"
   ]
  },
  {
   "cell_type": "code",
   "execution_count": 26,
   "id": "a9e2d68a",
   "metadata": {},
   "outputs": [
    {
     "data": {
      "text/plain": [
       "0.7736876879143582"
      ]
     },
     "execution_count": 26,
     "metadata": {},
     "output_type": "execute_result"
    }
   ],
   "source": [
    "#4.\n",
    "df5 = df[df['Region'] == \"Western Pacific\"]\n",
    "df4['New_cases'].corr(df4['New_deaths'])"
   ]
  },
  {
   "cell_type": "code",
   "execution_count": 33,
   "id": "2c2e14d9",
   "metadata": {},
   "outputs": [
    {
     "name": "stdout",
     "output_type": "stream",
     "text": [
      "Ttest_indResult(statistic=10.224284271310209, pvalue=8.40345449019136e-22)\n"
     ]
    }
   ],
   "source": [
    "#5.Unpaired\n",
    "import scipy.stats as stats\n",
    "df5 = df[df['Country'] == \"Sweden\"]\n",
    "res = stats.ttest_ind(df5['New_deaths'], df5['New_recovered'], \n",
    "                      equal_var=True)\n",
    "\n",
    "print(res)\n"
   ]
  },
  {
   "cell_type": "code",
   "execution_count": null,
   "id": "7c2d7893",
   "metadata": {},
   "outputs": [],
   "source": []
  }
 ],
 "metadata": {
  "kernelspec": {
   "display_name": "Python 3 (ipykernel)",
   "language": "python",
   "name": "python3"
  },
  "language_info": {
   "codemirror_mode": {
    "name": "ipython",
    "version": 3
   },
   "file_extension": ".py",
   "mimetype": "text/x-python",
   "name": "python",
   "nbconvert_exporter": "python",
   "pygments_lexer": "ipython3",
   "version": "3.10.4"
  }
 },
 "nbformat": 4,
 "nbformat_minor": 5
}
