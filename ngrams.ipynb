{
 "cells": [
  {
   "cell_type": "code",
   "execution_count": 19,
   "id": "e21be21e",
   "metadata": {},
   "outputs": [],
   "source": [
    "#pACKAGES\n",
    "import random\n",
    "import urllib.request\n",
    "from unittest import TestCase\n"
   ]
  },
  {
   "cell_type": "code",
   "execution_count": 20,
   "id": "74f72d9f",
   "metadata": {},
   "outputs": [],
   "source": [
    "ROMEO_SOLILOQUY = \"\"\"\n",
    " But, soft! what light through yonder window breaks?\n",
    " It is the east, and Juliet is the sun.\n",
    " Arise, fair sun, and kill the envious moon,\n",
    " who is already sick and pale with grief, \n",
    " That thou her maid art far more fair than she:\n",
    " be not her maid, since she is envious;\n",
    " her vestal livery is but sick and green\n",
    " and none but fools do wear it; cast it off.\n",
    " It is my lady, O, it is my love! \n",
    " O, that she knew she were!\n",
    " She speaks yet she says nothing: what of that?\n",
    " Her eye discourses; I will answer it.\n",
    " I am too bold, 'tis not to me she speaks:\n",
    " two of the fairest stars in all the heaven, \n",
    " having some business, do entreat her eyes\n",
    " to twinkle in their spheres till they return.\n",
    " What if her eyes were there, they in her head?\n",
    " The brightness of her cheek would shame those stars,\n",
    " as daylight doth a lamp; her eyes in heaven \n",
    " would through the airy region stream so bright\n",
    " that birds would sing and think it were not night.\n",
    " See, how she leans her cheek upon her hand!\n",
    " O, that I were a glove upon that hand,\n",
    " that I might touch that cheek!\"\"\"\n"
   ]
  },
  {
   "cell_type": "code",
   "execution_count": 21,
   "id": "4326eca0",
   "metadata": {},
   "outputs": [],
   "source": [
    "def compute_ngrams(toks, n = 2):\n",
    "    \"\"\"Returns an n-gram dictionary based on the provided list of tokens.\"\"\"\n",
    "    dictionary = dict()\n",
    "    for m in range(0, len(toks) - n + 1):\n",
    "        if toks[m] not in dictionary.keys():\n",
    "            dictionary[toks[m]] = list()\n",
    "        listS = list()\n",
    "        for r in range(0, n - 1):\n",
    "            listS.append(toks[m + r + 1])\n",
    "        dictionary[toks[m]].append(tuple(listS))\n",
    "\n",
    "    return dictionary"
   ]
  },
  {
   "cell_type": "code",
   "execution_count": 22,
   "id": "e18edb9d",
   "metadata": {},
   "outputs": [
    {
     "data": {
      "text/plain": [
       "['but,', 'soft!', 'what', 'light', 'through', 'yonder', 'window', 'breaks?']"
      ]
     },
     "execution_count": 22,
     "metadata": {},
     "output_type": "execute_result"
    }
   ],
   "source": [
    "toks = [t.lower() for t in ROMEO_SOLILOQUY.split()]\n",
    "toks[:8]\n",
    "\n"
   ]
  },
  {
   "cell_type": "code",
   "execution_count": 23,
   "id": "71f28f1e",
   "metadata": {},
   "outputs": [],
   "source": [
    "tc = TestCase()\n",
    "simple_toks = [t.lower() for t in 'I really really like cake.'.split()]\n",
    "compute_ngrams(simple_toks)\n",
    "tc.assertEqual(compute_ngrams(simple_toks), \n",
    " {'i': [('really',)], 'like': [('cake.',)], 'really': \n",
    "[('really',), ('like',)]})\n",
    "tc.assertEqual(compute_ngrams(simple_toks, n=3), \n",
    " {'i': [('really', 'really')],\n",
    " 'really': [('really', 'like'), ('like', 'cake.')]})\n",
    "romeo_toks = [t.lower() for t in ROMEO_SOLILOQUY.split()]\n",
    "dct = compute_ngrams(romeo_toks, n=4)\n",
    "tc.assertEqual(dct['but'], [('sick', 'and', 'green'), ('fools', 'do', \n",
    "'wear')])\n",
    "tc.assertEqual(dct['it'], \n",
    " [('is', 'the', 'east,'),\n",
    " ('off.', 'it', 'is'),\n",
    " ('is', 'my', 'lady,'),\n",
    " ('is', 'my', 'love!'),\n",
    " ('were', 'not', 'night.')])\n"
   ]
  },
  {
   "cell_type": "code",
   "execution_count": 24,
   "id": "917c08ac",
   "metadata": {},
   "outputs": [
    {
     "name": "stdout",
     "output_type": "stream",
     "text": [
      "All children, except one, grow up. They soon know that they will grow\r\n",
      "up, and the way Wendy knew was this. One day when she was two years old\r\n",
      "she was playing in a garden, and she plucked another flower and ran with\r\n",
      "it to her mother. I suppose she must have looked rather delightful, for\r\n",
      "Mrs. Darling put her hand to her heart and cried, “Oh, why can't you\r\n",
      "remain like this for ever!” This was all that passed between them on\r\n",
      "the subject, but henceforth Wendy knew that she must grow up. You always\r\n",
      "know after you are two. Two is the beginning of the end.\r\n",
      "\r\n",
      "Of course they lived at 14 [their house number on their street], and\r\n",
      "until Wendy came her mother was the chief one. She was a lovely lady,\r\n",
      "with a romantic mind and such a sweet mocking mouth. Her romantic\r\n",
      "mind was like the tiny boxes, one within the other, that come from the\r\n",
      "puzzling East, however many you discover there is always one more; and\r\n",
      "her sweet mocking mouth had one kiss on it that Wendy could never get,\r\n",
      "though ther\n"
     ]
    }
   ],
   "source": [
    "PETER_PAN_URL = 'https://moss.cs.iit.edu/cs331/data/peterpan.txt'\n",
    "peter_pan_text = urllib.request.urlopen(PETER_PAN_URL).read().decode()\n",
    "chapt1_start = peter_pan_text.index('All children')\n",
    "print(peter_pan_text[chapt1_start:chapt1_start+1000])\n"
   ]
  },
  {
   "cell_type": "code",
   "execution_count": 25,
   "id": "2dbb1076",
   "metadata": {},
   "outputs": [],
   "source": [
    "tc = TestCase()\n",
    "pp_toks = [t.lower() for t in peter_pan_text.split()]\n",
    "dct = compute_ngrams(pp_toks, n=3)\n",
    "tc.assertEqual(dct['crocodile'], \n",
    " [('passes,', 'but'),\n",
    " ('that', 'happened'),\n",
    " ('would', 'have'),\n",
    " ('was', 'in'),\n",
    " ('passed', 'him,'),\n",
    " ('is', 'about'),\n",
    " ('climbing', 'it.'),\n",
    " ('that', 'was'),\n",
    " ('pass', 'by'),\n",
    " ('and', 'let'),\n",
    " ('was', 'among'),\n",
    " ('was', 'waiting')])\n",
    "tc.assertEqual(len(dct['wendy']), 202)\n",
    "tc.assertEqual(len(dct['peter']), 243)\n"
   ]
  },
  {
   "cell_type": "code",
   "execution_count": 26,
   "id": "433fb559",
   "metadata": {},
   "outputs": [
    {
     "name": "stdout",
     "output_type": "stream",
     "text": [
      "lions\n",
      "11\n",
      "('really', 'like')\n"
     ]
    }
   ],
   "source": [
    "print(random.choice(['lions', 'tigers', 'bears']))\n",
    "print(random.choice(range(100)))\n",
    "print(random.choice([('really', 'like'), ('like', 'cake')]))\n"
   ]
  },
  {
   "cell_type": "code",
   "execution_count": 31,
   "id": "e4649394",
   "metadata": {},
   "outputs": [],
   "source": [
    "def gen_passage(ngram_dict, length= 100):\n",
    "    currentTok = random.choice(sorted(ngram_dict.keys()))\n",
    "    passage = currentTok[:]\n",
    "    count = 1\n",
    "\n",
    "\n",
    "    while count < length:\n",
    "        tup = random.choice(ngram_dict[currentTok])\n",
    "        for word in tup:\n",
    "\n",
    "            passage += \" \" + word\n",
    "\n",
    "        count += len(tup)\n",
    "        currentTok = tup[-1]\n",
    "\n",
    "        if currentTok not in ngram_dict.keys():\n",
    "            currentTok = random.choice(sorted(ngram_dict.keys()))\n",
    "\n",
    "            passage += \" \" + currentTok\n",
    "            count += 1\n",
    "    return passage\n",
    "\n"
   ]
  },
  {
   "cell_type": "code",
   "execution_count": 34,
   "id": "8476b321",
   "metadata": {},
   "outputs": [],
   "source": [
    "from unittest import TestCase\n",
    "tc = TestCase()\n",
    "random.seed(1234)\n",
    "simple_toks = [t.lower() for t in 'I really really like cake.'.split()]\n",
    "tc.assertEqual(gen_passage(compute_ngrams(simple_toks), 10),\n",
    " 'like cake. i really really really really like cake. i')\n",
    "random.seed(1234)\n",
    "romeo_toks = [t.lower() for t in ROMEO_SOLILOQUY.split()]\n",
    "tc.assertEqual(gen_passage(compute_ngrams(romeo_toks), 10),\n",
    " 'too bold, \\'tis not night. see, how she leans her')"
   ]
  },
  {
   "cell_type": "code",
   "execution_count": null,
   "id": "9dfce97e",
   "metadata": {},
   "outputs": [],
   "source": []
  },
  {
   "cell_type": "code",
   "execution_count": null,
   "id": "4cbd5d11",
   "metadata": {},
   "outputs": [],
   "source": []
  }
 ],
 "metadata": {
  "kernelspec": {
   "display_name": "Python 3 (ipykernel)",
   "language": "python",
   "name": "python3"
  },
  "language_info": {
   "codemirror_mode": {
    "name": "ipython",
    "version": 3
   },
   "file_extension": ".py",
   "mimetype": "text/x-python",
   "name": "python",
   "nbconvert_exporter": "python",
   "pygments_lexer": "ipython3",
   "version": "3.10.4"
  }
 },
 "nbformat": 4,
 "nbformat_minor": 5
}
