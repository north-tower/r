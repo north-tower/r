{
 "cells": [
  {
   "cell_type": "code",
   "execution_count": 1,
   "id": "4ceabfd7",
   "metadata": {},
   "outputs": [],
   "source": [
    "import pandas as pd\n",
    "import matplotlib.pyplot as plt\n",
    "import seaborn as sns\n",
    "import numpy as np\n",
    "\n",
    "import scipy.stats as stats\n",
    "from scipy.stats import chisquare\n",
    "from sklearn.model_selection import train_test_split\n",
    "from sklearn.preprocessing import FunctionTransformer\n",
    "from sklearn.linear_model import LogisticRegression\n",
    "from sklearn.tree import DecisionTreeClassifier\n",
    "from sklearn.preprocessing import LabelEncoder\n",
    "from sklearn.preprocessing import StandardScaler"
   ]
  },
  {
   "cell_type": "code",
   "execution_count": 2,
   "id": "0616503e",
   "metadata": {},
   "outputs": [],
   "source": [
    "#importing the data\n",
    "data = pd.read_csv(\"y_train.csv\")\n",
    "data2 = pd.read_csv(\"x_train.csv\")\n",
    "x_test =  pd.read_csv(\"x_test.csv\")"
   ]
  },
  {
   "cell_type": "code",
   "execution_count": 3,
   "id": "73b27656",
   "metadata": {},
   "outputs": [],
   "source": [
    "#Merging the data\n",
    "data2 = data2.assign(Target = data['target'] )\n"
   ]
  },
  {
   "cell_type": "code",
   "execution_count": 4,
   "id": "bfb319c6",
   "metadata": {},
   "outputs": [
    {
     "data": {
      "text/html": [
       "<div>\n",
       "<style scoped>\n",
       "    .dataframe tbody tr th:only-of-type {\n",
       "        vertical-align: middle;\n",
       "    }\n",
       "\n",
       "    .dataframe tbody tr th {\n",
       "        vertical-align: top;\n",
       "    }\n",
       "\n",
       "    .dataframe thead th {\n",
       "        text-align: right;\n",
       "    }\n",
       "</style>\n",
       "<table border=\"1\" class=\"dataframe\">\n",
       "  <thead>\n",
       "    <tr style=\"text-align: right;\">\n",
       "      <th></th>\n",
       "      <th>index</th>\n",
       "      <th>city</th>\n",
       "      <th>city_development_index</th>\n",
       "      <th>gender</th>\n",
       "      <th>relevent_experience</th>\n",
       "      <th>enrolled_university</th>\n",
       "      <th>education_level</th>\n",
       "      <th>major_discipline</th>\n",
       "      <th>experience</th>\n",
       "      <th>company_size</th>\n",
       "      <th>company_type</th>\n",
       "      <th>last_new_job</th>\n",
       "      <th>training_hours</th>\n",
       "      <th>Target</th>\n",
       "    </tr>\n",
       "  </thead>\n",
       "  <tbody>\n",
       "    <tr>\n",
       "      <th>0</th>\n",
       "      <td>17007</td>\n",
       "      <td>city_61</td>\n",
       "      <td>0.913</td>\n",
       "      <td>Male</td>\n",
       "      <td>Has relevent experience</td>\n",
       "      <td>no_enrollment</td>\n",
       "      <td>Masters</td>\n",
       "      <td>STEM</td>\n",
       "      <td>4</td>\n",
       "      <td>100-500</td>\n",
       "      <td>NGO</td>\n",
       "      <td>1</td>\n",
       "      <td>22</td>\n",
       "      <td>0.0</td>\n",
       "    </tr>\n",
       "    <tr>\n",
       "      <th>1</th>\n",
       "      <td>631</td>\n",
       "      <td>city_94</td>\n",
       "      <td>0.698</td>\n",
       "      <td>Male</td>\n",
       "      <td>Has relevent experience</td>\n",
       "      <td>NaN</td>\n",
       "      <td>High School</td>\n",
       "      <td>NaN</td>\n",
       "      <td>3</td>\n",
       "      <td>NaN</td>\n",
       "      <td>NaN</td>\n",
       "      <td>1</td>\n",
       "      <td>22</td>\n",
       "      <td>1.0</td>\n",
       "    </tr>\n",
       "    <tr>\n",
       "      <th>2</th>\n",
       "      <td>669</td>\n",
       "      <td>city_114</td>\n",
       "      <td>0.926</td>\n",
       "      <td>NaN</td>\n",
       "      <td>Has relevent experience</td>\n",
       "      <td>Full time course</td>\n",
       "      <td>Masters</td>\n",
       "      <td>STEM</td>\n",
       "      <td>9</td>\n",
       "      <td>50-99</td>\n",
       "      <td>Pvt Ltd</td>\n",
       "      <td>1</td>\n",
       "      <td>88</td>\n",
       "      <td>0.0</td>\n",
       "    </tr>\n",
       "    <tr>\n",
       "      <th>3</th>\n",
       "      <td>8949</td>\n",
       "      <td>city_114</td>\n",
       "      <td>0.926</td>\n",
       "      <td>Male</td>\n",
       "      <td>No relevent experience</td>\n",
       "      <td>Full time course</td>\n",
       "      <td>Graduate</td>\n",
       "      <td>STEM</td>\n",
       "      <td>14</td>\n",
       "      <td>NaN</td>\n",
       "      <td>NaN</td>\n",
       "      <td>4</td>\n",
       "      <td>91</td>\n",
       "      <td>0.0</td>\n",
       "    </tr>\n",
       "    <tr>\n",
       "      <th>4</th>\n",
       "      <td>2341</td>\n",
       "      <td>city_16</td>\n",
       "      <td>0.910</td>\n",
       "      <td>NaN</td>\n",
       "      <td>Has relevent experience</td>\n",
       "      <td>no_enrollment</td>\n",
       "      <td>Graduate</td>\n",
       "      <td>STEM</td>\n",
       "      <td>1</td>\n",
       "      <td>5000-9999</td>\n",
       "      <td>Pvt Ltd</td>\n",
       "      <td>1</td>\n",
       "      <td>92</td>\n",
       "      <td>0.0</td>\n",
       "    </tr>\n",
       "  </tbody>\n",
       "</table>\n",
       "</div>"
      ],
      "text/plain": [
       "   index      city  city_development_index gender      relevent_experience  \\\n",
       "0  17007   city_61                   0.913   Male  Has relevent experience   \n",
       "1    631   city_94                   0.698   Male  Has relevent experience   \n",
       "2    669  city_114                   0.926    NaN  Has relevent experience   \n",
       "3   8949  city_114                   0.926   Male   No relevent experience   \n",
       "4   2341   city_16                   0.910    NaN  Has relevent experience   \n",
       "\n",
       "  enrolled_university education_level major_discipline experience  \\\n",
       "0       no_enrollment         Masters             STEM          4   \n",
       "1                 NaN     High School              NaN          3   \n",
       "2    Full time course         Masters             STEM          9   \n",
       "3    Full time course        Graduate             STEM         14   \n",
       "4       no_enrollment        Graduate             STEM          1   \n",
       "\n",
       "  company_size company_type last_new_job  training_hours  Target  \n",
       "0      100-500          NGO            1              22     0.0  \n",
       "1          NaN          NaN            1              22     1.0  \n",
       "2        50-99      Pvt Ltd            1              88     0.0  \n",
       "3          NaN          NaN            4              91     0.0  \n",
       "4    5000-9999      Pvt Ltd            1              92     0.0  "
      ]
     },
     "execution_count": 4,
     "metadata": {},
     "output_type": "execute_result"
    }
   ],
   "source": [
    "data2.head()"
   ]
  },
  {
   "cell_type": "code",
   "execution_count": 5,
   "id": "c9361d89",
   "metadata": {},
   "outputs": [
    {
     "name": "stdout",
     "output_type": "stream",
     "text": [
      "Different classes in city feature: city_61 city_94 city_114 city_16 city_98 city_11 city_160 city_23 city_21 city_67 city_75 city_7 city_65 city_71 city_77 city_83 city_103 city_19 city_136 city_126 city_90 city_36 city_27 city_101 city_173 city_30 city_40 city_102 city_116 city_24 city_41 city_149 city_165 city_44 city_64 city_57 city_46 city_166 city_100 city_145 city_45 city_97 city_28 city_50 city_176 city_73 city_20 city_141 city_138 city_39 city_115 city_128 city_152 city_142 city_105 city_104 city_162 city_74 city_157 city_131 city_89 city_70 city_1 city_2 city_159 city_13 city_53 city_150 city_9 city_76 city_123 city_72 city_14 city_54 city_91 city_10 city_144 city_78 city_109 city_117 city_84 city_48 city_99 city_175 city_79 city_43 city_33 city_8 city_37 city_80 city_106 city_31 city_93 city_107 city_143 city_179 city_42 city_82 city_139 city_155 city_81 city_69 city_26 city_55 city_134 city_129 city_158 city_12 city_62 city_146 city_167 city_180 city_120 city_18 city_118 city_127 city_111 city_121 city_133 city_59 city_25 city_140 city_171\n"
     ]
    }
   ],
   "source": [
    "city = data2.city.unique()\n",
    "print(\"Different classes in city feature:\", *city)"
   ]
  },
  {
   "cell_type": "code",
   "execution_count": 6,
   "id": "20b973a8",
   "metadata": {},
   "outputs": [
    {
     "name": "stdout",
     "output_type": "stream",
     "text": [
      "Different classes in relevant_experience feature: Has relevent experience No relevent experience\n"
     ]
    }
   ],
   "source": [
    "relevent_exp = data2.relevent_experience.unique()\n",
    "print(\"Different classes in relevant_experience feature:\", *relevent_exp)"
   ]
  },
  {
   "cell_type": "code",
   "execution_count": 7,
   "id": "7379c689",
   "metadata": {},
   "outputs": [
    {
     "name": "stdout",
     "output_type": "stream",
     "text": [
      "Different classes in enrolled_university feature: no_enrollment nan Full time course Part time course\n"
     ]
    }
   ],
   "source": [
    "enrolled_uni = data2.enrolled_university.unique()\n",
    "print(\"Different classes in enrolled_university feature:\", *enrolled_uni)"
   ]
  },
  {
   "cell_type": "code",
   "execution_count": 8,
   "id": "6a5bb92f",
   "metadata": {},
   "outputs": [
    {
     "name": "stdout",
     "output_type": "stream",
     "text": [
      "Different classes in city_development_indexenrolled_university feature: 0.913 0.698 0.926 0.91 0.949 0.55 0.92 0.899 0.624 0.855 0.939 0.647 0.802 0.884 0.83 0.923 0.682 0.897 0.479 0.893 0.848 0.5579999999999999 0.878 0.7759999999999999 0.804 0.743 0.8270000000000001 0.6890000000000001 0.903 0.725 0.6659999999999999 0.866 0.762 0.649 0.887 0.555 0.89 0.925 0.8959999999999999 0.764 0.754 0.7959999999999999 0.763 0.836 0.898 0.789 0.527 0.727 0.794 0.924 0.767 0.579 0.769 0.68 0.847 0.7879999999999999 0.843 0.74 0.738 0.795 0.856 0.691 0.895 0.84 0.701 0.493 0.915 0.516 0.4479999999999999 0.807 0.865 0.518 0.512 0.563 0.693 0.487 0.556 0.73 0.7390000000000001 0.625 0.7659999999999999 0.64 0.645 0.735 0.921 0.78 0.8240000000000001 0.722 0.745 0.7809999999999999 0.742 0.775 0.664\n"
     ]
    }
   ],
   "source": [
    "city_development_index = data2.city_development_index.unique()\n",
    "print(\"Different classes in city_development_indexenrolled_university feature:\", *city_development_index)"
   ]
  },
  {
   "cell_type": "code",
   "execution_count": 9,
   "id": "0f3a4043",
   "metadata": {},
   "outputs": [
    {
     "name": "stdout",
     "output_type": "stream",
     "text": [
      "Different classes in gender feature: Male nan Female Other\n"
     ]
    }
   ],
   "source": [
    "gender = data2.gender.unique()\n",
    "print(\"Different classes in gender feature:\", *gender)"
   ]
  },
  {
   "cell_type": "code",
   "execution_count": 10,
   "id": "a16c5a0b",
   "metadata": {},
   "outputs": [
    {
     "name": "stdout",
     "output_type": "stream",
     "text": [
      "Different classes in gender feature: Masters High School Graduate Phd nan Primary School\n"
     ]
    }
   ],
   "source": [
    "edu_level = data2.education_level.unique()\n",
    "print(\"Different classes in gender feature:\", *edu_level)"
   ]
  },
  {
   "cell_type": "code",
   "execution_count": 11,
   "id": "23490ea6",
   "metadata": {},
   "outputs": [
    {
     "name": "stdout",
     "output_type": "stream",
     "text": [
      "Different classes in company_type feature: NGO nan Pvt Ltd Public Sector Early Stage Startup Funded Startup Other\n"
     ]
    }
   ],
   "source": [
    "company_type = data2.company_type.unique()\n",
    "print(\"Different classes in company_type feature:\", *company_type)"
   ]
  },
  {
   "cell_type": "code",
   "execution_count": 12,
   "id": "7c88f3bc",
   "metadata": {},
   "outputs": [
    {
     "name": "stdout",
     "output_type": "stream",
     "text": [
      "Different classes in major_discipline feature: STEM nan No Major Other Arts Humanities Business Degree\n"
     ]
    }
   ],
   "source": [
    "major_discipline = data2.major_discipline.unique()\n",
    "print(\"Different classes in major_discipline feature:\", *major_discipline)"
   ]
  },
  {
   "cell_type": "code",
   "execution_count": 13,
   "id": "6505864d",
   "metadata": {},
   "outputs": [
    {
     "name": "stdout",
     "output_type": "stream",
     "text": [
      "Different classes in target feature: 0.0 1.0\n"
     ]
    }
   ],
   "source": [
    "target = data.target.unique()\n",
    "print(\"Different classes in target feature:\", *target)"
   ]
  },
  {
   "cell_type": "code",
   "execution_count": 14,
   "id": "ce4a3ca6",
   "metadata": {},
   "outputs": [
    {
     "name": "stdout",
     "output_type": "stream",
     "text": [
      "Shape of the dataframe: (14368, 2)\n",
      "% missing values: 0.0\n"
     ]
    }
   ],
   "source": [
    "rows,cols = data.shape\n",
    "print(\"Shape of the dataframe:\", data.shape)\n",
    "print(\"% missing values:\" ,round(data.isnull().sum().sum()/rows,2))"
   ]
  },
  {
   "cell_type": "markdown",
   "id": "a9f3af08",
   "metadata": {},
   "source": [
    "Visualize distribution of each feature using graphs"
   ]
  },
  {
   "cell_type": "code",
   "execution_count": 15,
   "id": "06ab949a",
   "metadata": {},
   "outputs": [
    {
     "data": {
      "text/plain": [
       "<seaborn.axisgrid.FacetGrid at 0x1967fe87c70>"
      ]
     },
     "execution_count": 15,
     "metadata": {},
     "output_type": "execute_result"
    },
    {
     "data": {
      "image/png": "[encoded data removed]",
      "text/plain": [
       "<Figure size 360x360 with 1 Axes>"
      ]
     },
     "metadata": {
      "needs_background": "light"
     },
     "output_type": "display_data"
    }
   ],
   "source": [
    "sns.displot(data2, x=\"city\",)\n"
   ]
  },
  {
   "cell_type": "code",
   "execution_count": 16,
   "id": "412eec87",
   "metadata": {},
   "outputs": [
    {
     "data": {
      "text/plain": [
       "<seaborn.axisgrid.FacetGrid at 0x19677932410>"
      ]
     },
     "execution_count": 16,
     "metadata": {},
     "output_type": "execute_result"
    },
    {
     "data": {
      "image/png": "[encoded data removed]",
      "text/plain": [
       "<Figure size 360x360 with 1 Axes>"
      ]
     },
     "metadata": {
      "needs_background": "light"
     },
     "output_type": "display_data"
    }
   ],
   "source": [
    "sns.displot(data2, x=\"city_development_index\")"
   ]
  },
  {
   "cell_type": "code",
   "execution_count": 17,
   "id": "891ac694",
   "metadata": {},
   "outputs": [
    {
     "data": {
      "text/plain": [
       "<seaborn.axisgrid.FacetGrid at 0x196033ea770>"
      ]
     },
     "execution_count": 17,
     "metadata": {},
     "output_type": "execute_result"
    },
    {
     "data": {
      "image/png": "[encoded data removed]",
      "text/plain": [
       "<Figure size 360x360 with 1 Axes>"
      ]
     },
     "metadata": {
      "needs_background": "light"
     },
     "output_type": "display_data"
    }
   ],
   "source": [
    "sns.displot(data2, x=\"gender\")"
   ]
  },
  {
   "cell_type": "code",
   "execution_count": 18,
   "id": "70009878",
   "metadata": {},
   "outputs": [
    {
     "data": {
      "text/plain": [
       "<seaborn.axisgrid.FacetGrid at 0x196778d73a0>"
      ]
     },
     "execution_count": 18,
     "metadata": {},
     "output_type": "execute_result"
    },
    {
     "data": {
      "image/png": "[encoded data removed]",
      "text/plain": [
       "<Figure size 360x360 with 1 Axes>"
      ]
     },
     "metadata": {
      "needs_background": "light"
     },
     "output_type": "display_data"
    }
   ],
   "source": [
    "sns.displot(data2, x=\"relevent_experience\")"
   ]
  },
  {
   "cell_type": "code",
   "execution_count": 19,
   "id": "38a19c80",
   "metadata": {},
   "outputs": [
    {
     "data": {
      "text/plain": [
       "<seaborn.axisgrid.FacetGrid at 0x196036ca9e0>"
      ]
     },
     "execution_count": 19,
     "metadata": {},
     "output_type": "execute_result"
    },
    {
     "data": {
      "image/png": "[encoded data removed]",
      "text/plain": [
       "<Figure size 360x360 with 1 Axes>"
      ]
     },
     "metadata": {
      "needs_background": "light"
     },
     "output_type": "display_data"
    }
   ],
   "source": [
    "sns.displot(data2, x=\"enrolled_university\")"
   ]
  },
  {
   "cell_type": "code",
   "execution_count": 20,
   "id": "3427e5b2",
   "metadata": {},
   "outputs": [
    {
     "data": {
      "text/plain": [
       "<seaborn.axisgrid.FacetGrid at 0x19603623370>"
      ]
     },
     "execution_count": 20,
     "metadata": {},
     "output_type": "execute_result"
    },
    {
     "data": {
      "image/png": "[encoded data removed]",
      "text/plain": [
       "<Figure size 360x360 with 1 Axes>"
      ]
     },
     "metadata": {
      "needs_background": "light"
     },
     "output_type": "display_data"
    }
   ],
   "source": [
    "sns.displot(data2, x=\"education_level\")"
   ]
  },
  {
   "cell_type": "code",
   "execution_count": 21,
   "id": "32e9586e",
   "metadata": {},
   "outputs": [
    {
     "data": {
      "text/plain": [
       "<seaborn.axisgrid.FacetGrid at 0x1967fe47fd0>"
      ]
     },
     "execution_count": 21,
     "metadata": {},
     "output_type": "execute_result"
    },
    {
     "data": {
      "image/png": "[encoded data removed]",
      "text/plain": [
       "<Figure size 360x360 with 1 Axes>"
      ]
     },
     "metadata": {
      "needs_background": "light"
     },
     "output_type": "display_data"
    }
   ],
   "source": [
    "sns.displot(data2, x=\"major_discipline\")"
   ]
  },
  {
   "cell_type": "code",
   "execution_count": 22,
   "id": "eb73d1bf",
   "metadata": {},
   "outputs": [
    {
     "data": {
      "text/plain": [
       "<seaborn.axisgrid.FacetGrid at 0x19604dd49d0>"
      ]
     },
     "execution_count": 22,
     "metadata": {},
     "output_type": "execute_result"
    },
    {
     "data": {
      "image/png": "[encoded data removed]",
      "text/plain": [
       "<Figure size 360x360 with 1 Axes>"
      ]
     },
     "metadata": {
      "needs_background": "light"
     },
     "output_type": "display_data"
    }
   ],
   "source": [
    "sns.displot(data2, x=\"experience\")"
   ]
  },
  {
   "cell_type": "code",
   "execution_count": 23,
   "id": "5a4b1bd1",
   "metadata": {},
   "outputs": [
    {
     "data": {
      "text/plain": [
       "<seaborn.axisgrid.FacetGrid at 0x19604949990>"
      ]
     },
     "execution_count": 23,
     "metadata": {},
     "output_type": "execute_result"
    },
    {
     "data": {
      "image/png": "[encoded data removed]",
      "text/plain": [
       "<Figure size 360x360 with 1 Axes>"
      ]
     },
     "metadata": {
      "needs_background": "light"
     },
     "output_type": "display_data"
    }
   ],
   "source": [
    "sns.displot(data2, x=\"company_size\")"
   ]
  },
  {
   "cell_type": "code",
   "execution_count": 24,
   "id": "a6475c69",
   "metadata": {},
   "outputs": [
    {
     "data": {
      "text/plain": [
       "<seaborn.axisgrid.FacetGrid at 0x19604dd7b80>"
      ]
     },
     "execution_count": 24,
     "metadata": {},
     "output_type": "execute_result"
    },
    {
     "data": {
      "image/png": "[encoded data removed]",
      "text/plain": [
       "<Figure size 360x360 with 1 Axes>"
      ]
     },
     "metadata": {
      "needs_background": "light"
     },
     "output_type": "display_data"
    }
   ],
   "source": [
    "sns.displot(data2, x=\"company_type\")"
   ]
  },
  {
   "cell_type": "code",
   "execution_count": 25,
   "id": "49905771",
   "metadata": {},
   "outputs": [
    {
     "data": {
      "text/plain": [
       "<seaborn.axisgrid.FacetGrid at 0x19605166740>"
      ]
     },
     "execution_count": 25,
     "metadata": {},
     "output_type": "execute_result"
    },
    {
     "data": {
      "image/png": "[encoded data removed]",
      "text/plain": [
       "<Figure size 360x360 with 1 Axes>"
      ]
     },
     "metadata": {
      "needs_background": "light"
     },
     "output_type": "display_data"
    }
   ],
   "source": [
    "sns.displot(data2, x=\"last_new_job\")"
   ]
  },
  {
   "cell_type": "code",
   "execution_count": 26,
   "id": "a8fb3831",
   "metadata": {},
   "outputs": [
    {
     "data": {
      "text/plain": [
       "<seaborn.axisgrid.FacetGrid at 0x19604e82b00>"
      ]
     },
     "execution_count": 26,
     "metadata": {},
     "output_type": "execute_result"
    },
    {
     "data": {
      "image/png": "[encoded data removed]",
      "text/plain": [
       "<Figure size 360x360 with 1 Axes>"
      ]
     },
     "metadata": {
      "needs_background": "light"
     },
     "output_type": "display_data"
    }
   ],
   "source": [
    "sns.displot(data2, x=\"Target\")"
   ]
  },
  {
   "cell_type": "code",
   "execution_count": 27,
   "id": "8655d423",
   "metadata": {},
   "outputs": [
    {
     "data": {
      "text/plain": [
       "<seaborn.axisgrid.FacetGrid at 0x196051dc9a0>"
      ]
     },
     "execution_count": 27,
     "metadata": {},
     "output_type": "execute_result"
    },
    {
     "data": {
      "image/png": "[encoded data removed]",
      "text/plain": [
       "<Figure size 360x360 with 1 Axes>"
      ]
     },
     "metadata": {
      "needs_background": "light"
     },
     "output_type": "display_data"
    }
   ],
   "source": [
    "sns.displot(data2, x=\"training_hours\")"
   ]
  },
  {
   "cell_type": "markdown",
   "id": "10daeb53",
   "metadata": {},
   "source": [
    "Visualize the relationship of each feature with target variable"
   ]
  },
  {
   "cell_type": "code",
   "execution_count": 28,
   "id": "488e10f2",
   "metadata": {},
   "outputs": [
    {
     "data": {
      "text/plain": [
       "<seaborn.axisgrid.FacetGrid at 0x19605202e00>"
      ]
     },
     "execution_count": 28,
     "metadata": {},
     "output_type": "execute_result"
    },
    {
     "data": {
      "image/png": "[encoded data removed]",
      "text/plain": [
       "<Figure size 411.875x360 with 1 Axes>"
      ]
     },
     "metadata": {
      "needs_background": "light"
     },
     "output_type": "display_data"
    }
   ],
   "source": [
    "sns.displot(data2, x = \"city\", hue = \"Target\", stat = \"density\" , element = \"step\",discrete=False)"
   ]
  },
  {
   "cell_type": "code",
   "execution_count": 29,
   "id": "63927604",
   "metadata": {},
   "outputs": [
    {
     "data": {
      "text/plain": [
       "<seaborn.axisgrid.FacetGrid at 0x19606a660e0>"
      ]
     },
     "execution_count": 29,
     "metadata": {},
     "output_type": "execute_result"
    },
    {
     "data": {
      "image/png": "[encoded data removed]",
      "text/plain": [
       "<Figure size 411.875x360 with 1 Axes>"
      ]
     },
     "metadata": {
      "needs_background": "light"
     },
     "output_type": "display_data"
    }
   ],
   "source": [
    "sns.displot(data2, x = \"city_development_index\", hue = \"Target\", stat = \"density\" , element = \"step\")"
   ]
  },
  {
   "cell_type": "code",
   "execution_count": 30,
   "id": "9b6c495d",
   "metadata": {},
   "outputs": [
    {
     "data": {
      "text/html": [
       "<div>\n",
       "<style scoped>\n",
       "    .dataframe tbody tr th:only-of-type {\n",
       "        vertical-align: middle;\n",
       "    }\n",
       "\n",
       "    .dataframe tbody tr th {\n",
       "        vertical-align: top;\n",
       "    }\n",
       "\n",
       "    .dataframe thead th {\n",
       "        text-align: right;\n",
       "    }\n",
       "</style>\n",
       "<table border=\"1\" class=\"dataframe\">\n",
       "  <thead>\n",
       "    <tr style=\"text-align: right;\">\n",
       "      <th>Target</th>\n",
       "      <th>0.0</th>\n",
       "      <th>1.0</th>\n",
       "    </tr>\n",
       "    <tr>\n",
       "      <th>gender</th>\n",
       "      <th></th>\n",
       "      <th></th>\n",
       "    </tr>\n",
       "  </thead>\n",
       "  <tbody>\n",
       "    <tr>\n",
       "      <th>Female</th>\n",
       "      <td>684</td>\n",
       "      <td>230</td>\n",
       "    </tr>\n",
       "    <tr>\n",
       "      <th>Male</th>\n",
       "      <td>7644</td>\n",
       "      <td>2270</td>\n",
       "    </tr>\n",
       "    <tr>\n",
       "      <th>Other</th>\n",
       "      <td>107</td>\n",
       "      <td>40</td>\n",
       "    </tr>\n",
       "  </tbody>\n",
       "</table>\n",
       "</div>"
      ],
      "text/plain": [
       "Target   0.0   1.0\n",
       "gender            \n",
       "Female   684   230\n",
       "Male    7644  2270\n",
       "Other    107    40"
      ]
     },
     "execution_count": 30,
     "metadata": {},
     "output_type": "execute_result"
    }
   ],
   "source": [
    "pd.crosstab(data2.gender, data2.Target)"
   ]
  },
  {
   "cell_type": "code",
   "execution_count": 31,
   "id": "f919812c",
   "metadata": {},
   "outputs": [
    {
     "data": {
      "text/html": [
       "<div>\n",
       "<style scoped>\n",
       "    .dataframe tbody tr th:only-of-type {\n",
       "        vertical-align: middle;\n",
       "    }\n",
       "\n",
       "    .dataframe tbody tr th {\n",
       "        vertical-align: top;\n",
       "    }\n",
       "\n",
       "    .dataframe thead th {\n",
       "        text-align: right;\n",
       "    }\n",
       "</style>\n",
       "<table border=\"1\" class=\"dataframe\">\n",
       "  <thead>\n",
       "    <tr style=\"text-align: right;\">\n",
       "      <th>Target</th>\n",
       "      <th>0.0</th>\n",
       "      <th>1.0</th>\n",
       "    </tr>\n",
       "    <tr>\n",
       "      <th>relevent_experience</th>\n",
       "      <th></th>\n",
       "      <th></th>\n",
       "    </tr>\n",
       "  </thead>\n",
       "  <tbody>\n",
       "    <tr>\n",
       "      <th>Has relevent experience</th>\n",
       "      <td>8169</td>\n",
       "      <td>2216</td>\n",
       "    </tr>\n",
       "    <tr>\n",
       "      <th>No relevent experience</th>\n",
       "      <td>2636</td>\n",
       "      <td>1347</td>\n",
       "    </tr>\n",
       "  </tbody>\n",
       "</table>\n",
       "</div>"
      ],
      "text/plain": [
       "Target                    0.0   1.0\n",
       "relevent_experience                \n",
       "Has relevent experience  8169  2216\n",
       "No relevent experience   2636  1347"
      ]
     },
     "execution_count": 31,
     "metadata": {},
     "output_type": "execute_result"
    }
   ],
   "source": [
    "pd.crosstab(data2.relevent_experience, data2.Target)"
   ]
  },
  {
   "cell_type": "code",
   "execution_count": 32,
   "id": "6ad96781",
   "metadata": {},
   "outputs": [
    {
     "data": {
      "text/html": [
       "<div>\n",
       "<style scoped>\n",
       "    .dataframe tbody tr th:only-of-type {\n",
       "        vertical-align: middle;\n",
       "    }\n",
       "\n",
       "    .dataframe tbody tr th {\n",
       "        vertical-align: top;\n",
       "    }\n",
       "\n",
       "    .dataframe thead th {\n",
       "        text-align: right;\n",
       "    }\n",
       "</style>\n",
       "<table border=\"1\" class=\"dataframe\">\n",
       "  <thead>\n",
       "    <tr style=\"text-align: right;\">\n",
       "      <th>Target</th>\n",
       "      <th>0.0</th>\n",
       "      <th>1.0</th>\n",
       "    </tr>\n",
       "    <tr>\n",
       "      <th>enrolled_university</th>\n",
       "      <th></th>\n",
       "      <th></th>\n",
       "    </tr>\n",
       "  </thead>\n",
       "  <tbody>\n",
       "    <tr>\n",
       "      <th>Full time course</th>\n",
       "      <td>1739</td>\n",
       "      <td>1071</td>\n",
       "    </tr>\n",
       "    <tr>\n",
       "      <th>Part time course</th>\n",
       "      <td>670</td>\n",
       "      <td>230</td>\n",
       "    </tr>\n",
       "    <tr>\n",
       "      <th>no_enrollment</th>\n",
       "      <td>8195</td>\n",
       "      <td>2171</td>\n",
       "    </tr>\n",
       "  </tbody>\n",
       "</table>\n",
       "</div>"
      ],
      "text/plain": [
       "Target                0.0   1.0\n",
       "enrolled_university            \n",
       "Full time course     1739  1071\n",
       "Part time course      670   230\n",
       "no_enrollment        8195  2171"
      ]
     },
     "execution_count": 32,
     "metadata": {},
     "output_type": "execute_result"
    }
   ],
   "source": [
    "pd.crosstab(data2.enrolled_university, data2.Target)"
   ]
  },
  {
   "cell_type": "code",
   "execution_count": 33,
   "id": "950b6646",
   "metadata": {},
   "outputs": [
    {
     "data": {
      "text/html": [
       "<div>\n",
       "<style scoped>\n",
       "    .dataframe tbody tr th:only-of-type {\n",
       "        vertical-align: middle;\n",
       "    }\n",
       "\n",
       "    .dataframe tbody tr th {\n",
       "        vertical-align: top;\n",
       "    }\n",
       "\n",
       "    .dataframe thead th {\n",
       "        text-align: right;\n",
       "    }\n",
       "</style>\n",
       "<table border=\"1\" class=\"dataframe\">\n",
       "  <thead>\n",
       "    <tr style=\"text-align: right;\">\n",
       "      <th>Target</th>\n",
       "      <th>0.0</th>\n",
       "      <th>1.0</th>\n",
       "    </tr>\n",
       "    <tr>\n",
       "      <th>education_level</th>\n",
       "      <th></th>\n",
       "      <th></th>\n",
       "    </tr>\n",
       "  </thead>\n",
       "  <tbody>\n",
       "    <tr>\n",
       "      <th>Graduate</th>\n",
       "      <td>6271</td>\n",
       "      <td>2408</td>\n",
       "    </tr>\n",
       "    <tr>\n",
       "      <th>High School</th>\n",
       "      <td>1204</td>\n",
       "      <td>301</td>\n",
       "    </tr>\n",
       "    <tr>\n",
       "      <th>Masters</th>\n",
       "      <td>2606</td>\n",
       "      <td>705</td>\n",
       "    </tr>\n",
       "    <tr>\n",
       "      <th>Phd</th>\n",
       "      <td>261</td>\n",
       "      <td>49</td>\n",
       "    </tr>\n",
       "    <tr>\n",
       "      <th>Primary School</th>\n",
       "      <td>196</td>\n",
       "      <td>29</td>\n",
       "    </tr>\n",
       "  </tbody>\n",
       "</table>\n",
       "</div>"
      ],
      "text/plain": [
       "Target            0.0   1.0\n",
       "education_level            \n",
       "Graduate         6271  2408\n",
       "High School      1204   301\n",
       "Masters          2606   705\n",
       "Phd               261    49\n",
       "Primary School    196    29"
      ]
     },
     "execution_count": 33,
     "metadata": {},
     "output_type": "execute_result"
    }
   ],
   "source": [
    "pd.crosstab(data2.education_level, data2.Target)"
   ]
  },
  {
   "cell_type": "code",
   "execution_count": 34,
   "id": "2089bb82",
   "metadata": {},
   "outputs": [
    {
     "data": {
      "text/html": [
       "<div>\n",
       "<style scoped>\n",
       "    .dataframe tbody tr th:only-of-type {\n",
       "        vertical-align: middle;\n",
       "    }\n",
       "\n",
       "    .dataframe tbody tr th {\n",
       "        vertical-align: top;\n",
       "    }\n",
       "\n",
       "    .dataframe thead th {\n",
       "        text-align: right;\n",
       "    }\n",
       "</style>\n",
       "<table border=\"1\" class=\"dataframe\">\n",
       "  <thead>\n",
       "    <tr style=\"text-align: right;\">\n",
       "      <th>Target</th>\n",
       "      <th>0.0</th>\n",
       "      <th>1.0</th>\n",
       "    </tr>\n",
       "    <tr>\n",
       "      <th>major_discipline</th>\n",
       "      <th></th>\n",
       "      <th></th>\n",
       "    </tr>\n",
       "  </thead>\n",
       "  <tbody>\n",
       "    <tr>\n",
       "      <th>Arts</th>\n",
       "      <td>155</td>\n",
       "      <td>40</td>\n",
       "    </tr>\n",
       "    <tr>\n",
       "      <th>Business Degree</th>\n",
       "      <td>162</td>\n",
       "      <td>64</td>\n",
       "    </tr>\n",
       "    <tr>\n",
       "      <th>Humanities</th>\n",
       "      <td>385</td>\n",
       "      <td>108</td>\n",
       "    </tr>\n",
       "    <tr>\n",
       "      <th>No Major</th>\n",
       "      <td>128</td>\n",
       "      <td>44</td>\n",
       "    </tr>\n",
       "    <tr>\n",
       "      <th>Other</th>\n",
       "      <td>201</td>\n",
       "      <td>67</td>\n",
       "    </tr>\n",
       "    <tr>\n",
       "      <th>STEM</th>\n",
       "      <td>8093</td>\n",
       "      <td>2832</td>\n",
       "    </tr>\n",
       "  </tbody>\n",
       "</table>\n",
       "</div>"
      ],
      "text/plain": [
       "Target             0.0   1.0\n",
       "major_discipline            \n",
       "Arts               155    40\n",
       "Business Degree    162    64\n",
       "Humanities         385   108\n",
       "No Major           128    44\n",
       "Other              201    67\n",
       "STEM              8093  2832"
      ]
     },
     "execution_count": 34,
     "metadata": {},
     "output_type": "execute_result"
    }
   ],
   "source": [
    "pd.crosstab(data2.major_discipline, data2.Target)"
   ]
  },
  {
   "cell_type": "code",
   "execution_count": 35,
   "id": "1c0f4573",
   "metadata": {},
   "outputs": [
    {
     "data": {
      "text/plain": [
       "<seaborn.axisgrid.FacetGrid at 0x19606b7b1c0>"
      ]
     },
     "execution_count": 35,
     "metadata": {},
     "output_type": "execute_result"
    },
    {
     "data": {
      "image/png": "[encoded data removed]",
      "text/plain": [
       "<Figure size 411.875x360 with 1 Axes>"
      ]
     },
     "metadata": {
      "needs_background": "light"
     },
     "output_type": "display_data"
    }
   ],
   "source": [
    "sns.displot(data2, x = \"experience\", hue = \"Target\", stat = \"density\" , element = \"step\",discrete=False)"
   ]
  },
  {
   "cell_type": "code",
   "execution_count": 36,
   "id": "b25f7a65",
   "metadata": {},
   "outputs": [
    {
     "data": {
      "text/plain": [
       "<seaborn.axisgrid.FacetGrid at 0x19606e2c8e0>"
      ]
     },
     "execution_count": 36,
     "metadata": {},
     "output_type": "execute_result"
    },
    {
     "data": {
      "image/png": "[encoded data removed]",
      "text/plain": [
       "<Figure size 411.875x360 with 1 Axes>"
      ]
     },
     "metadata": {
      "needs_background": "light"
     },
     "output_type": "display_data"
    }
   ],
   "source": [
    "sns.displot(data2, x = \"company_size\", hue = \"Target\", stat = \"density\" , element = \"step\",discrete=False)"
   ]
  },
  {
   "cell_type": "code",
   "execution_count": 37,
   "id": "1ddaea7f",
   "metadata": {},
   "outputs": [
    {
     "data": {
      "text/html": [
       "<div>\n",
       "<style scoped>\n",
       "    .dataframe tbody tr th:only-of-type {\n",
       "        vertical-align: middle;\n",
       "    }\n",
       "\n",
       "    .dataframe tbody tr th {\n",
       "        vertical-align: top;\n",
       "    }\n",
       "\n",
       "    .dataframe thead th {\n",
       "        text-align: right;\n",
       "    }\n",
       "</style>\n",
       "<table border=\"1\" class=\"dataframe\">\n",
       "  <thead>\n",
       "    <tr style=\"text-align: right;\">\n",
       "      <th>Target</th>\n",
       "      <th>0.0</th>\n",
       "      <th>1.0</th>\n",
       "    </tr>\n",
       "    <tr>\n",
       "      <th>last_new_job</th>\n",
       "      <th></th>\n",
       "      <th></th>\n",
       "    </tr>\n",
       "  </thead>\n",
       "  <tbody>\n",
       "    <tr>\n",
       "      <th>1</th>\n",
       "      <td>4462</td>\n",
       "      <td>1558</td>\n",
       "    </tr>\n",
       "    <tr>\n",
       "      <th>2</th>\n",
       "      <td>1687</td>\n",
       "      <td>524</td>\n",
       "    </tr>\n",
       "    <tr>\n",
       "      <th>3</th>\n",
       "      <td>579</td>\n",
       "      <td>182</td>\n",
       "    </tr>\n",
       "    <tr>\n",
       "      <th>4</th>\n",
       "      <td>600</td>\n",
       "      <td>174</td>\n",
       "    </tr>\n",
       "    <tr>\n",
       "      <th>&gt;4</th>\n",
       "      <td>2002</td>\n",
       "      <td>457</td>\n",
       "    </tr>\n",
       "    <tr>\n",
       "      <th>never</th>\n",
       "      <td>1267</td>\n",
       "      <td>549</td>\n",
       "    </tr>\n",
       "  </tbody>\n",
       "</table>\n",
       "</div>"
      ],
      "text/plain": [
       "Target         0.0   1.0\n",
       "last_new_job            \n",
       "1             4462  1558\n",
       "2             1687   524\n",
       "3              579   182\n",
       "4              600   174\n",
       ">4            2002   457\n",
       "never         1267   549"
      ]
     },
     "execution_count": 37,
     "metadata": {},
     "output_type": "execute_result"
    }
   ],
   "source": [
    "pd.crosstab(data2.last_new_job, data2.Target)"
   ]
  },
  {
   "cell_type": "code",
   "execution_count": 38,
   "id": "cf308fd9",
   "metadata": {},
   "outputs": [
    {
     "data": {
      "text/plain": [
       "<seaborn.axisgrid.FacetGrid at 0x19606b6a350>"
      ]
     },
     "execution_count": 38,
     "metadata": {},
     "output_type": "execute_result"
    },
    {
     "data": {
      "image/png": "[encoded data removed]",
      "text/plain": [
       "<Figure size 411.875x360 with 1 Axes>"
      ]
     },
     "metadata": {
      "needs_background": "light"
     },
     "output_type": "display_data"
    }
   ],
   "source": [
    "sns.displot(data2, x = \"training_hours\", hue = \"Target\", stat = \"density\" , element = \"step\",discrete=False)"
   ]
  },
  {
   "cell_type": "markdown",
   "id": "a18ea150",
   "metadata": {},
   "source": [
    "Handle missing values"
   ]
  },
  {
   "cell_type": "code",
   "execution_count": 39,
   "id": "79d64c9d",
   "metadata": {},
   "outputs": [
    {
     "data": {
      "text/plain": [
       "index                        0\n",
       "city                         0\n",
       "city_development_index       0\n",
       "gender                    3393\n",
       "relevent_experience          0\n",
       "enrolled_university        292\n",
       "education_level            338\n",
       "major_discipline          2089\n",
       "experience                  45\n",
       "company_size              4430\n",
       "company_type              4598\n",
       "last_new_job               327\n",
       "training_hours               0\n",
       "Target                       0\n",
       "dtype: int64"
      ]
     },
     "execution_count": 39,
     "metadata": {},
     "output_type": "execute_result"
    }
   ],
   "source": [
    "data2.isnull().sum()"
   ]
  },
  {
   "cell_type": "code",
   "execution_count": 40,
   "id": "a60c384e",
   "metadata": {},
   "outputs": [
    {
     "name": "stdout",
     "output_type": "stream",
     "text": [
      "index                     0\n",
      "city                      0\n",
      "city_development_index    0\n",
      "gender                    0\n",
      "relevent_experience       0\n",
      "enrolled_university       0\n",
      "education_level           0\n",
      "major_discipline          0\n",
      "experience                0\n",
      "company_size              0\n",
      "company_type              0\n",
      "last_new_job              0\n",
      "training_hours            0\n",
      "Target                    0\n",
      "dtype: int64\n"
     ]
    }
   ],
   "source": [
    "#deleting rows - missed vales\n",
    "data2.dropna(inplace=True)\n",
    "print(data2.isnull().sum())"
   ]
  },
  {
   "cell_type": "markdown",
   "id": "ad3b403c",
   "metadata": {},
   "source": [
    "Create new features using combinations / transformations of existing features"
   ]
  },
  {
   "cell_type": "code",
   "execution_count": 41,
   "id": "fa17431c",
   "metadata": {},
   "outputs": [
    {
     "data": {
      "text/plain": [
       "index                       int64\n",
       "city                       object\n",
       "city_development_index    float64\n",
       "gender                     object\n",
       "relevent_experience        object\n",
       "enrolled_university        object\n",
       "education_level            object\n",
       "major_discipline           object\n",
       "experience                 object\n",
       "company_size               object\n",
       "company_type               object\n",
       "last_new_job               object\n",
       "training_hours              int64\n",
       "Target                    float64\n",
       "dtype: object"
      ]
     },
     "execution_count": 41,
     "metadata": {},
     "output_type": "execute_result"
    }
   ],
   "source": [
    "data2.dtypes"
   ]
  },
  {
   "cell_type": "code",
   "execution_count": 42,
   "id": "f1c9a1dd",
   "metadata": {},
   "outputs": [],
   "source": [
    "mean_training = data2.groupby('city')[\"training_hours\"].mean().rename(\"training_mean\").reset_index() \n",
    "data2 = data2.merge(mean_training)"
   ]
  },
  {
   "cell_type": "code",
   "execution_count": 43,
   "id": "c53ee716",
   "metadata": {},
   "outputs": [],
   "source": [
    "#create log-transformed data\n",
    "data2['city_development_index_log'] = np.log(data2['city_development_index']).astype(float)\n"
   ]
  },
  {
   "cell_type": "markdown",
   "id": "f1beb1db",
   "metadata": {},
   "source": [
    "Scale the features for models that require scaling and perform required pre-processing"
   ]
  },
  {
   "cell_type": "code",
   "execution_count": 44,
   "id": "24bf161f",
   "metadata": {},
   "outputs": [
    {
     "data": {
      "text/html": [
       "<div>\n",
       "<style scoped>\n",
       "    .dataframe tbody tr th:only-of-type {\n",
       "        vertical-align: middle;\n",
       "    }\n",
       "\n",
       "    .dataframe tbody tr th {\n",
       "        vertical-align: top;\n",
       "    }\n",
       "\n",
       "    .dataframe thead th {\n",
       "        text-align: right;\n",
       "    }\n",
       "</style>\n",
       "<table border=\"1\" class=\"dataframe\">\n",
       "  <thead>\n",
       "    <tr style=\"text-align: right;\">\n",
       "      <th></th>\n",
       "      <th>index</th>\n",
       "      <th>city_development_index</th>\n",
       "      <th>training_hours</th>\n",
       "      <th>Target</th>\n",
       "      <th>training_mean</th>\n",
       "      <th>city_development_index_log</th>\n",
       "      <th>city_city_1</th>\n",
       "      <th>city_city_10</th>\n",
       "      <th>city_city_100</th>\n",
       "      <th>city_city_101</th>\n",
       "      <th>...</th>\n",
       "      <th>company_type_NGO</th>\n",
       "      <th>company_type_Other</th>\n",
       "      <th>company_type_Public Sector</th>\n",
       "      <th>company_type_Pvt Ltd</th>\n",
       "      <th>last_new_job_1</th>\n",
       "      <th>last_new_job_2</th>\n",
       "      <th>last_new_job_3</th>\n",
       "      <th>last_new_job_4</th>\n",
       "      <th>last_new_job_&gt;4</th>\n",
       "      <th>last_new_job_never</th>\n",
       "    </tr>\n",
       "  </thead>\n",
       "  <tbody>\n",
       "    <tr>\n",
       "      <th>0</th>\n",
       "      <td>17007</td>\n",
       "      <td>0.913</td>\n",
       "      <td>22</td>\n",
       "      <td>0.0</td>\n",
       "      <td>54.358974</td>\n",
       "      <td>-0.091019</td>\n",
       "      <td>0</td>\n",
       "      <td>0</td>\n",
       "      <td>0</td>\n",
       "      <td>0</td>\n",
       "      <td>...</td>\n",
       "      <td>1</td>\n",
       "      <td>0</td>\n",
       "      <td>0</td>\n",
       "      <td>0</td>\n",
       "      <td>1</td>\n",
       "      <td>0</td>\n",
       "      <td>0</td>\n",
       "      <td>0</td>\n",
       "      <td>0</td>\n",
       "      <td>0</td>\n",
       "    </tr>\n",
       "    <tr>\n",
       "      <th>1</th>\n",
       "      <td>14755</td>\n",
       "      <td>0.913</td>\n",
       "      <td>160</td>\n",
       "      <td>0.0</td>\n",
       "      <td>54.358974</td>\n",
       "      <td>-0.091019</td>\n",
       "      <td>0</td>\n",
       "      <td>0</td>\n",
       "      <td>0</td>\n",
       "      <td>0</td>\n",
       "      <td>...</td>\n",
       "      <td>0</td>\n",
       "      <td>0</td>\n",
       "      <td>0</td>\n",
       "      <td>1</td>\n",
       "      <td>1</td>\n",
       "      <td>0</td>\n",
       "      <td>0</td>\n",
       "      <td>0</td>\n",
       "      <td>0</td>\n",
       "      <td>0</td>\n",
       "    </tr>\n",
       "    <tr>\n",
       "      <th>2</th>\n",
       "      <td>1922</td>\n",
       "      <td>0.913</td>\n",
       "      <td>7</td>\n",
       "      <td>0.0</td>\n",
       "      <td>54.358974</td>\n",
       "      <td>-0.091019</td>\n",
       "      <td>0</td>\n",
       "      <td>0</td>\n",
       "      <td>0</td>\n",
       "      <td>0</td>\n",
       "      <td>...</td>\n",
       "      <td>0</td>\n",
       "      <td>0</td>\n",
       "      <td>1</td>\n",
       "      <td>0</td>\n",
       "      <td>1</td>\n",
       "      <td>0</td>\n",
       "      <td>0</td>\n",
       "      <td>0</td>\n",
       "      <td>0</td>\n",
       "      <td>0</td>\n",
       "    </tr>\n",
       "    <tr>\n",
       "      <th>3</th>\n",
       "      <td>14970</td>\n",
       "      <td>0.913</td>\n",
       "      <td>13</td>\n",
       "      <td>0.0</td>\n",
       "      <td>54.358974</td>\n",
       "      <td>-0.091019</td>\n",
       "      <td>0</td>\n",
       "      <td>0</td>\n",
       "      <td>0</td>\n",
       "      <td>0</td>\n",
       "      <td>...</td>\n",
       "      <td>0</td>\n",
       "      <td>0</td>\n",
       "      <td>0</td>\n",
       "      <td>1</td>\n",
       "      <td>0</td>\n",
       "      <td>0</td>\n",
       "      <td>0</td>\n",
       "      <td>0</td>\n",
       "      <td>1</td>\n",
       "      <td>0</td>\n",
       "    </tr>\n",
       "    <tr>\n",
       "      <th>4</th>\n",
       "      <td>5727</td>\n",
       "      <td>0.913</td>\n",
       "      <td>3</td>\n",
       "      <td>0.0</td>\n",
       "      <td>54.358974</td>\n",
       "      <td>-0.091019</td>\n",
       "      <td>0</td>\n",
       "      <td>0</td>\n",
       "      <td>0</td>\n",
       "      <td>0</td>\n",
       "      <td>...</td>\n",
       "      <td>0</td>\n",
       "      <td>0</td>\n",
       "      <td>0</td>\n",
       "      <td>1</td>\n",
       "      <td>1</td>\n",
       "      <td>0</td>\n",
       "      <td>0</td>\n",
       "      <td>0</td>\n",
       "      <td>0</td>\n",
       "      <td>0</td>\n",
       "    </tr>\n",
       "    <tr>\n",
       "      <th>...</th>\n",
       "      <td>...</td>\n",
       "      <td>...</td>\n",
       "      <td>...</td>\n",
       "      <td>...</td>\n",
       "      <td>...</td>\n",
       "      <td>...</td>\n",
       "      <td>...</td>\n",
       "      <td>...</td>\n",
       "      <td>...</td>\n",
       "      <td>...</td>\n",
       "      <td>...</td>\n",
       "      <td>...</td>\n",
       "      <td>...</td>\n",
       "      <td>...</td>\n",
       "      <td>...</td>\n",
       "      <td>...</td>\n",
       "      <td>...</td>\n",
       "      <td>...</td>\n",
       "      <td>...</td>\n",
       "      <td>...</td>\n",
       "      <td>...</td>\n",
       "    </tr>\n",
       "    <tr>\n",
       "      <th>6700</th>\n",
       "      <td>9062</td>\n",
       "      <td>0.794</td>\n",
       "      <td>29</td>\n",
       "      <td>0.0</td>\n",
       "      <td>26.000000</td>\n",
       "      <td>-0.230672</td>\n",
       "      <td>0</td>\n",
       "      <td>0</td>\n",
       "      <td>0</td>\n",
       "      <td>0</td>\n",
       "      <td>...</td>\n",
       "      <td>0</td>\n",
       "      <td>0</td>\n",
       "      <td>0</td>\n",
       "      <td>1</td>\n",
       "      <td>1</td>\n",
       "      <td>0</td>\n",
       "      <td>0</td>\n",
       "      <td>0</td>\n",
       "      <td>0</td>\n",
       "      <td>0</td>\n",
       "    </tr>\n",
       "    <tr>\n",
       "      <th>6701</th>\n",
       "      <td>15737</td>\n",
       "      <td>0.794</td>\n",
       "      <td>13</td>\n",
       "      <td>0.0</td>\n",
       "      <td>26.000000</td>\n",
       "      <td>-0.230672</td>\n",
       "      <td>0</td>\n",
       "      <td>0</td>\n",
       "      <td>0</td>\n",
       "      <td>0</td>\n",
       "      <td>...</td>\n",
       "      <td>0</td>\n",
       "      <td>0</td>\n",
       "      <td>1</td>\n",
       "      <td>0</td>\n",
       "      <td>1</td>\n",
       "      <td>0</td>\n",
       "      <td>0</td>\n",
       "      <td>0</td>\n",
       "      <td>0</td>\n",
       "      <td>0</td>\n",
       "    </tr>\n",
       "    <tr>\n",
       "      <th>6702</th>\n",
       "      <td>9219</td>\n",
       "      <td>0.518</td>\n",
       "      <td>19</td>\n",
       "      <td>0.0</td>\n",
       "      <td>19.000000</td>\n",
       "      <td>-0.657780</td>\n",
       "      <td>0</td>\n",
       "      <td>0</td>\n",
       "      <td>0</td>\n",
       "      <td>0</td>\n",
       "      <td>...</td>\n",
       "      <td>1</td>\n",
       "      <td>0</td>\n",
       "      <td>0</td>\n",
       "      <td>0</td>\n",
       "      <td>1</td>\n",
       "      <td>0</td>\n",
       "      <td>0</td>\n",
       "      <td>0</td>\n",
       "      <td>0</td>\n",
       "      <td>0</td>\n",
       "    </tr>\n",
       "    <tr>\n",
       "      <th>6703</th>\n",
       "      <td>7638</td>\n",
       "      <td>0.745</td>\n",
       "      <td>4</td>\n",
       "      <td>0.0</td>\n",
       "      <td>4.000000</td>\n",
       "      <td>-0.294371</td>\n",
       "      <td>0</td>\n",
       "      <td>0</td>\n",
       "      <td>0</td>\n",
       "      <td>0</td>\n",
       "      <td>...</td>\n",
       "      <td>0</td>\n",
       "      <td>0</td>\n",
       "      <td>0</td>\n",
       "      <td>1</td>\n",
       "      <td>0</td>\n",
       "      <td>0</td>\n",
       "      <td>0</td>\n",
       "      <td>0</td>\n",
       "      <td>1</td>\n",
       "      <td>0</td>\n",
       "    </tr>\n",
       "    <tr>\n",
       "      <th>6704</th>\n",
       "      <td>11774</td>\n",
       "      <td>0.487</td>\n",
       "      <td>92</td>\n",
       "      <td>0.0</td>\n",
       "      <td>92.000000</td>\n",
       "      <td>-0.719491</td>\n",
       "      <td>0</td>\n",
       "      <td>0</td>\n",
       "      <td>0</td>\n",
       "      <td>0</td>\n",
       "      <td>...</td>\n",
       "      <td>0</td>\n",
       "      <td>0</td>\n",
       "      <td>0</td>\n",
       "      <td>1</td>\n",
       "      <td>1</td>\n",
       "      <td>0</td>\n",
       "      <td>0</td>\n",
       "      <td>0</td>\n",
       "      <td>0</td>\n",
       "      <td>0</td>\n",
       "    </tr>\n",
       "  </tbody>\n",
       "</table>\n",
       "<p>6705 rows × 179 columns</p>\n",
       "</div>"
      ],
      "text/plain": [
       "      index  city_development_index  training_hours  Target  training_mean  \\\n",
       "0     17007                   0.913              22     0.0      54.358974   \n",
       "1     14755                   0.913             160     0.0      54.358974   \n",
       "2      1922                   0.913               7     0.0      54.358974   \n",
       "3     14970                   0.913              13     0.0      54.358974   \n",
       "4      5727                   0.913               3     0.0      54.358974   \n",
       "...     ...                     ...             ...     ...            ...   \n",
       "6700   9062                   0.794              29     0.0      26.000000   \n",
       "6701  15737                   0.794              13     0.0      26.000000   \n",
       "6702   9219                   0.518              19     0.0      19.000000   \n",
       "6703   7638                   0.745               4     0.0       4.000000   \n",
       "6704  11774                   0.487              92     0.0      92.000000   \n",
       "\n",
       "      city_development_index_log  city_city_1  city_city_10  city_city_100  \\\n",
       "0                      -0.091019            0             0              0   \n",
       "1                      -0.091019            0             0              0   \n",
       "2                      -0.091019            0             0              0   \n",
       "3                      -0.091019            0             0              0   \n",
       "4                      -0.091019            0             0              0   \n",
       "...                          ...          ...           ...            ...   \n",
       "6700                   -0.230672            0             0              0   \n",
       "6701                   -0.230672            0             0              0   \n",
       "6702                   -0.657780            0             0              0   \n",
       "6703                   -0.294371            0             0              0   \n",
       "6704                   -0.719491            0             0              0   \n",
       "\n",
       "      city_city_101  ...  company_type_NGO  company_type_Other  \\\n",
       "0                 0  ...                 1                   0   \n",
       "1                 0  ...                 0                   0   \n",
       "2                 0  ...                 0                   0   \n",
       "3                 0  ...                 0                   0   \n",
       "4                 0  ...                 0                   0   \n",
       "...             ...  ...               ...                 ...   \n",
       "6700              0  ...                 0                   0   \n",
       "6701              0  ...                 0                   0   \n",
       "6702              0  ...                 1                   0   \n",
       "6703              0  ...                 0                   0   \n",
       "6704              0  ...                 0                   0   \n",
       "\n",
       "      company_type_Public Sector  company_type_Pvt Ltd  last_new_job_1  \\\n",
       "0                              0                     0               1   \n",
       "1                              0                     1               1   \n",
       "2                              1                     0               1   \n",
       "3                              0                     1               0   \n",
       "4                              0                     1               1   \n",
       "...                          ...                   ...             ...   \n",
       "6700                           0                     1               1   \n",
       "6701                           1                     0               1   \n",
       "6702                           0                     0               1   \n",
       "6703                           0                     1               0   \n",
       "6704                           0                     1               1   \n",
       "\n",
       "      last_new_job_2  last_new_job_3  last_new_job_4  last_new_job_>4  \\\n",
       "0                  0               0               0                0   \n",
       "1                  0               0               0                0   \n",
       "2                  0               0               0                0   \n",
       "3                  0               0               0                1   \n",
       "4                  0               0               0                0   \n",
       "...              ...             ...             ...              ...   \n",
       "6700               0               0               0                0   \n",
       "6701               0               0               0                0   \n",
       "6702               0               0               0                0   \n",
       "6703               0               0               0                1   \n",
       "6704               0               0               0                0   \n",
       "\n",
       "      last_new_job_never  \n",
       "0                      0  \n",
       "1                      0  \n",
       "2                      0  \n",
       "3                      0  \n",
       "4                      0  \n",
       "...                  ...  \n",
       "6700                   0  \n",
       "6701                   0  \n",
       "6702                   0  \n",
       "6703                   0  \n",
       "6704                   0  \n",
       "\n",
       "[6705 rows x 179 columns]"
      ]
     },
     "execution_count": 44,
     "metadata": {},
     "output_type": "execute_result"
    }
   ],
   "source": [
    "#one hot encoding\n",
    "pd.get_dummies(data=data2)"
   ]
  },
  {
   "cell_type": "code",
   "execution_count": 45,
   "id": "0a08a1a7",
   "metadata": {},
   "outputs": [
    {
     "data": {
      "text/html": [
       "<div>\n",
       "<style scoped>\n",
       "    .dataframe tbody tr th:only-of-type {\n",
       "        vertical-align: middle;\n",
       "    }\n",
       "\n",
       "    .dataframe tbody tr th {\n",
       "        vertical-align: top;\n",
       "    }\n",
       "\n",
       "    .dataframe thead th {\n",
       "        text-align: right;\n",
       "    }\n",
       "</style>\n",
       "<table border=\"1\" class=\"dataframe\">\n",
       "  <thead>\n",
       "    <tr style=\"text-align: right;\">\n",
       "      <th></th>\n",
       "      <th>index</th>\n",
       "      <th>city</th>\n",
       "      <th>city_development_index</th>\n",
       "      <th>gender</th>\n",
       "      <th>relevent_experience</th>\n",
       "      <th>enrolled_university</th>\n",
       "      <th>education_level</th>\n",
       "      <th>major_discipline</th>\n",
       "      <th>experience</th>\n",
       "      <th>company_size</th>\n",
       "      <th>company_type</th>\n",
       "      <th>last_new_job</th>\n",
       "      <th>training_hours</th>\n",
       "      <th>Target</th>\n",
       "      <th>training_mean</th>\n",
       "      <th>city_development_index_log</th>\n",
       "    </tr>\n",
       "  </thead>\n",
       "  <tbody>\n",
       "    <tr>\n",
       "      <th>0</th>\n",
       "      <td>17007</td>\n",
       "      <td>city_61</td>\n",
       "      <td>0.913</td>\n",
       "      <td>Male</td>\n",
       "      <td>Has relevent experience</td>\n",
       "      <td>no_enrollment</td>\n",
       "      <td>Masters</td>\n",
       "      <td>STEM</td>\n",
       "      <td>4</td>\n",
       "      <td>100-500</td>\n",
       "      <td>NGO</td>\n",
       "      <td>1</td>\n",
       "      <td>22</td>\n",
       "      <td>0.0</td>\n",
       "      <td>54.358974</td>\n",
       "      <td>-0.091019</td>\n",
       "    </tr>\n",
       "    <tr>\n",
       "      <th>1</th>\n",
       "      <td>14755</td>\n",
       "      <td>city_61</td>\n",
       "      <td>0.913</td>\n",
       "      <td>Male</td>\n",
       "      <td>Has relevent experience</td>\n",
       "      <td>no_enrollment</td>\n",
       "      <td>Graduate</td>\n",
       "      <td>STEM</td>\n",
       "      <td>12</td>\n",
       "      <td>&lt;10</td>\n",
       "      <td>Pvt Ltd</td>\n",
       "      <td>1</td>\n",
       "      <td>160</td>\n",
       "      <td>0.0</td>\n",
       "      <td>54.358974</td>\n",
       "      <td>-0.091019</td>\n",
       "    </tr>\n",
       "    <tr>\n",
       "      <th>2</th>\n",
       "      <td>1922</td>\n",
       "      <td>city_61</td>\n",
       "      <td>0.913</td>\n",
       "      <td>Male</td>\n",
       "      <td>Has relevent experience</td>\n",
       "      <td>no_enrollment</td>\n",
       "      <td>Graduate</td>\n",
       "      <td>Other</td>\n",
       "      <td>10</td>\n",
       "      <td>5000-9999</td>\n",
       "      <td>Public Sector</td>\n",
       "      <td>1</td>\n",
       "      <td>7</td>\n",
       "      <td>0.0</td>\n",
       "      <td>54.358974</td>\n",
       "      <td>-0.091019</td>\n",
       "    </tr>\n",
       "    <tr>\n",
       "      <th>3</th>\n",
       "      <td>14970</td>\n",
       "      <td>city_61</td>\n",
       "      <td>0.913</td>\n",
       "      <td>Male</td>\n",
       "      <td>Has relevent experience</td>\n",
       "      <td>no_enrollment</td>\n",
       "      <td>Graduate</td>\n",
       "      <td>STEM</td>\n",
       "      <td>16</td>\n",
       "      <td>500-999</td>\n",
       "      <td>Pvt Ltd</td>\n",
       "      <td>&gt;4</td>\n",
       "      <td>13</td>\n",
       "      <td>0.0</td>\n",
       "      <td>54.358974</td>\n",
       "      <td>-0.091019</td>\n",
       "    </tr>\n",
       "    <tr>\n",
       "      <th>4</th>\n",
       "      <td>5727</td>\n",
       "      <td>city_61</td>\n",
       "      <td>0.913</td>\n",
       "      <td>Male</td>\n",
       "      <td>Has relevent experience</td>\n",
       "      <td>no_enrollment</td>\n",
       "      <td>Graduate</td>\n",
       "      <td>STEM</td>\n",
       "      <td>15</td>\n",
       "      <td>50-99</td>\n",
       "      <td>Pvt Ltd</td>\n",
       "      <td>1</td>\n",
       "      <td>3</td>\n",
       "      <td>0.0</td>\n",
       "      <td>54.358974</td>\n",
       "      <td>-0.091019</td>\n",
       "    </tr>\n",
       "    <tr>\n",
       "      <th>...</th>\n",
       "      <td>...</td>\n",
       "      <td>...</td>\n",
       "      <td>...</td>\n",
       "      <td>...</td>\n",
       "      <td>...</td>\n",
       "      <td>...</td>\n",
       "      <td>...</td>\n",
       "      <td>...</td>\n",
       "      <td>...</td>\n",
       "      <td>...</td>\n",
       "      <td>...</td>\n",
       "      <td>...</td>\n",
       "      <td>...</td>\n",
       "      <td>...</td>\n",
       "      <td>...</td>\n",
       "      <td>...</td>\n",
       "    </tr>\n",
       "    <tr>\n",
       "      <th>6700</th>\n",
       "      <td>9062</td>\n",
       "      <td>city_37</td>\n",
       "      <td>0.794</td>\n",
       "      <td>Male</td>\n",
       "      <td>Has relevent experience</td>\n",
       "      <td>no_enrollment</td>\n",
       "      <td>Graduate</td>\n",
       "      <td>STEM</td>\n",
       "      <td>13</td>\n",
       "      <td>10/49</td>\n",
       "      <td>Pvt Ltd</td>\n",
       "      <td>1</td>\n",
       "      <td>29</td>\n",
       "      <td>0.0</td>\n",
       "      <td>26.000000</td>\n",
       "      <td>-0.230672</td>\n",
       "    </tr>\n",
       "    <tr>\n",
       "      <th>6701</th>\n",
       "      <td>15737</td>\n",
       "      <td>city_37</td>\n",
       "      <td>0.794</td>\n",
       "      <td>Female</td>\n",
       "      <td>Has relevent experience</td>\n",
       "      <td>no_enrollment</td>\n",
       "      <td>Graduate</td>\n",
       "      <td>STEM</td>\n",
       "      <td>9</td>\n",
       "      <td>50-99</td>\n",
       "      <td>Public Sector</td>\n",
       "      <td>1</td>\n",
       "      <td>13</td>\n",
       "      <td>0.0</td>\n",
       "      <td>26.000000</td>\n",
       "      <td>-0.230672</td>\n",
       "    </tr>\n",
       "    <tr>\n",
       "      <th>6702</th>\n",
       "      <td>9219</td>\n",
       "      <td>city_107</td>\n",
       "      <td>0.518</td>\n",
       "      <td>Male</td>\n",
       "      <td>Has relevent experience</td>\n",
       "      <td>no_enrollment</td>\n",
       "      <td>Graduate</td>\n",
       "      <td>STEM</td>\n",
       "      <td>6</td>\n",
       "      <td>100-500</td>\n",
       "      <td>NGO</td>\n",
       "      <td>1</td>\n",
       "      <td>19</td>\n",
       "      <td>0.0</td>\n",
       "      <td>19.000000</td>\n",
       "      <td>-0.657780</td>\n",
       "    </tr>\n",
       "    <tr>\n",
       "      <th>6703</th>\n",
       "      <td>7638</td>\n",
       "      <td>city_127</td>\n",
       "      <td>0.745</td>\n",
       "      <td>Male</td>\n",
       "      <td>Has relevent experience</td>\n",
       "      <td>no_enrollment</td>\n",
       "      <td>Masters</td>\n",
       "      <td>STEM</td>\n",
       "      <td>15</td>\n",
       "      <td>&lt;10</td>\n",
       "      <td>Pvt Ltd</td>\n",
       "      <td>&gt;4</td>\n",
       "      <td>4</td>\n",
       "      <td>0.0</td>\n",
       "      <td>4.000000</td>\n",
       "      <td>-0.294371</td>\n",
       "    </tr>\n",
       "    <tr>\n",
       "      <th>6704</th>\n",
       "      <td>11774</td>\n",
       "      <td>city_139</td>\n",
       "      <td>0.487</td>\n",
       "      <td>Male</td>\n",
       "      <td>Has relevent experience</td>\n",
       "      <td>Part time course</td>\n",
       "      <td>Graduate</td>\n",
       "      <td>STEM</td>\n",
       "      <td>5</td>\n",
       "      <td>10/49</td>\n",
       "      <td>Pvt Ltd</td>\n",
       "      <td>1</td>\n",
       "      <td>92</td>\n",
       "      <td>0.0</td>\n",
       "      <td>92.000000</td>\n",
       "      <td>-0.719491</td>\n",
       "    </tr>\n",
       "  </tbody>\n",
       "</table>\n",
       "<p>6705 rows × 16 columns</p>\n",
       "</div>"
      ],
      "text/plain": [
       "      index      city  city_development_index  gender  \\\n",
       "0     17007   city_61                   0.913    Male   \n",
       "1     14755   city_61                   0.913    Male   \n",
       "2      1922   city_61                   0.913    Male   \n",
       "3     14970   city_61                   0.913    Male   \n",
       "4      5727   city_61                   0.913    Male   \n",
       "...     ...       ...                     ...     ...   \n",
       "6700   9062   city_37                   0.794    Male   \n",
       "6701  15737   city_37                   0.794  Female   \n",
       "6702   9219  city_107                   0.518    Male   \n",
       "6703   7638  city_127                   0.745    Male   \n",
       "6704  11774  city_139                   0.487    Male   \n",
       "\n",
       "          relevent_experience enrolled_university education_level  \\\n",
       "0     Has relevent experience       no_enrollment         Masters   \n",
       "1     Has relevent experience       no_enrollment        Graduate   \n",
       "2     Has relevent experience       no_enrollment        Graduate   \n",
       "3     Has relevent experience       no_enrollment        Graduate   \n",
       "4     Has relevent experience       no_enrollment        Graduate   \n",
       "...                       ...                 ...             ...   \n",
       "6700  Has relevent experience       no_enrollment        Graduate   \n",
       "6701  Has relevent experience       no_enrollment        Graduate   \n",
       "6702  Has relevent experience       no_enrollment        Graduate   \n",
       "6703  Has relevent experience       no_enrollment         Masters   \n",
       "6704  Has relevent experience    Part time course        Graduate   \n",
       "\n",
       "     major_discipline experience company_size   company_type last_new_job  \\\n",
       "0                STEM          4      100-500            NGO            1   \n",
       "1                STEM         12          <10        Pvt Ltd            1   \n",
       "2               Other         10    5000-9999  Public Sector            1   \n",
       "3                STEM         16      500-999        Pvt Ltd           >4   \n",
       "4                STEM         15        50-99        Pvt Ltd            1   \n",
       "...               ...        ...          ...            ...          ...   \n",
       "6700             STEM         13        10/49        Pvt Ltd            1   \n",
       "6701             STEM          9        50-99  Public Sector            1   \n",
       "6702             STEM          6      100-500            NGO            1   \n",
       "6703             STEM         15          <10        Pvt Ltd           >4   \n",
       "6704             STEM          5        10/49        Pvt Ltd            1   \n",
       "\n",
       "      training_hours  Target  training_mean  city_development_index_log  \n",
       "0                 22     0.0      54.358974                   -0.091019  \n",
       "1                160     0.0      54.358974                   -0.091019  \n",
       "2                  7     0.0      54.358974                   -0.091019  \n",
       "3                 13     0.0      54.358974                   -0.091019  \n",
       "4                  3     0.0      54.358974                   -0.091019  \n",
       "...              ...     ...            ...                         ...  \n",
       "6700              29     0.0      26.000000                   -0.230672  \n",
       "6701              13     0.0      26.000000                   -0.230672  \n",
       "6702              19     0.0      19.000000                   -0.657780  \n",
       "6703               4     0.0       4.000000                   -0.294371  \n",
       "6704              92     0.0      92.000000                   -0.719491  \n",
       "\n",
       "[6705 rows x 16 columns]"
      ]
     },
     "execution_count": 45,
     "metadata": {},
     "output_type": "execute_result"
    }
   ],
   "source": [
    "data2"
   ]
  },
  {
   "cell_type": "code",
   "execution_count": 46,
   "id": "eb3c2ce7",
   "metadata": {},
   "outputs": [
    {
     "ename": "NameError",
     "evalue": "name 'scaledX' is not defined",
     "output_type": "error",
     "traceback": [
      "\u001b[1;31m---------------------------------------------------------------------------\u001b[0m",
      "\u001b[1;31mNameError\u001b[0m                                 Traceback (most recent call last)",
      "Input \u001b[1;32mIn [46]\u001b[0m, in \u001b[0;36m<module>\u001b[1;34m\u001b[0m\n\u001b[0;32m      1\u001b[0m X \u001b[38;5;241m=\u001b[39m data2[[\u001b[38;5;124m'\u001b[39m\u001b[38;5;124mcity_development_index\u001b[39m\u001b[38;5;124m'\u001b[39m, \u001b[38;5;124m'\u001b[39m\u001b[38;5;124mtraining_hours\u001b[39m\u001b[38;5;124m'\u001b[39m]]\n\u001b[0;32m      2\u001b[0m scale \u001b[38;5;241m=\u001b[39m StandardScaler()\n\u001b[1;32m----> 3\u001b[0m temp \u001b[38;5;241m=\u001b[39m \u001b[43mscaledX\u001b[49m[:\u001b[38;5;241m6705\u001b[39m,\u001b[38;5;241m0\u001b[39m]\n\u001b[0;32m      4\u001b[0m temp2 \u001b[38;5;241m=\u001b[39m scaledX[:\u001b[38;5;241m6705\u001b[39m,\u001b[38;5;241m1\u001b[39m]\n\u001b[0;32m      5\u001b[0m scaledX \u001b[38;5;241m=\u001b[39m scale\u001b[38;5;241m.\u001b[39mfit_transform(X)\n",
      "\u001b[1;31mNameError\u001b[0m: name 'scaledX' is not defined"
     ]
    }
   ],
   "source": [
    "X = data2[['city_development_index', 'training_hours']]\n",
    "scale = StandardScaler()\n",
    "temp = scaledX[:6705,0]\n",
    "temp2 = scaledX[:6705,1]\n",
    "scaledX = scale.fit_transform(X)\n",
    "\n",
    "data2['city_development_index'] = temp\n",
    "data2['training_hours'] = temp2"
   ]
  },
  {
   "cell_type": "code",
   "execution_count": null,
   "id": "2ef78572",
   "metadata": {},
   "outputs": [],
   "source": [
    "data2"
   ]
  },
  {
   "cell_type": "markdown",
   "id": "5e13a423",
   "metadata": {},
   "source": [
    "Explain the following terms in detail (9 points)"
   ]
  },
  {
   "cell_type": "markdown",
   "id": "b4fd0a41",
   "metadata": {},
   "source": [
    "Pearson’s correlation:\n",
    "also known as Pearson's r, the Pearson product-moment correlation coefficient (PPMCC),is a proportion of straight connection between's two sets of data. It is the proportion between the covariance of two factors and the result of their standard deviations; in this way it is basically a standardized estimation of the covariance, to such an extent that the outcome generally has a worth somewhere in the range of −1 and 1.\n"
   ]
  },
  {
   "cell_type": "markdown",
   "id": "dbc15060",
   "metadata": {},
   "source": [
    "T – test:\n",
    "A t-test is a kind of inferential measurement used to decide whether there is a huge distinction between the means for two groups, which might be connected in specific highlights.\n",
    "Ascertaining a t-test requires three key data values. They incorporate the contrast between the mean values from every data set(called the mean distinction), the standard deviation of each group, and the quantity of data values of each group."
   ]
  },
  {
   "cell_type": "markdown",
   "id": "50ac13fb",
   "metadata": {},
   "source": [
    "Chi squared test:\n",
    "The chi-square test is a theory test intended to test for a measurably critical connection among nominal and ordinal factors coordinated in a bivariate table. At the end of the day, it lets us know whether two factors are independent of each other\n",
    "The acquired chi-square measurement basically sums up the contrast between the frequencies really saw in a bivariate table and the frequencies we would hope to check whether there were no connection between the two factors."
   ]
  },
  {
   "cell_type": "markdown",
   "id": "b87cd066",
   "metadata": {},
   "source": [
    "Perform Pearson correlation between continuous features and plot the heatmap of the correlation matrix."
   ]
  },
  {
   "cell_type": "code",
   "execution_count": null,
   "id": "f77f4cb9",
   "metadata": {},
   "outputs": [],
   "source": [
    "my_rho = np.corrcoef(data2['city_development_index'], data2['training_hours'])\n",
    "my_rho\n",
    "sns.heatmap(my_rho)"
   ]
  },
  {
   "cell_type": "markdown",
   "id": "d818f2cb",
   "metadata": {},
   "source": [
    "Perform t test on continuous features after dividing them using target variable."
   ]
  },
  {
   "cell_type": "code",
   "execution_count": null,
   "id": "e2463353",
   "metadata": {},
   "outputs": [],
   "source": [
    "rvs1 = data2['city_development_index']\n",
    "rvs2 = data2['training_hours']\n",
    "\n",
    "stats.ttest_ind(rvs1, rvs2)"
   ]
  },
  {
   "cell_type": "markdown",
   "id": "7ac87346",
   "metadata": {},
   "source": [
    " Perform Chi squared test among categorical variables and with the target variable"
   ]
  },
  {
   "cell_type": "code",
   "execution_count": 50,
   "id": "27c9c640",
   "metadata": {},
   "outputs": [
    {
     "ename": "SyntaxError",
     "evalue": "invalid syntax (2293013059.py, line 15)",
     "output_type": "error",
     "traceback": [
      "\u001b[1;36m  Input \u001b[1;32mIn [50]\u001b[1;36m\u001b[0m\n\u001b[1;33m    df_cont.sum(1).values,df_cont.sum().values) /\u001b[0m\n\u001b[1;37m                                                  ^\u001b[0m\n\u001b[1;31mSyntaxError\u001b[0m\u001b[1;31m:\u001b[0m invalid syntax\n"
     ]
    }
   ],
   "source": [
    "def chi2_by_hand(df, col1, col2):    \n",
    "    #---create the contingency table---\n",
    "    df_cont = pd.crosstab(index = df[col1], columns = df[col2])\n",
    "    display(df_cont)\n",
    "    #---calculate degree of freedom---\n",
    "    degree_f = (df_cont.shape[0]-1) * (df_cont.shape[1]-1)\n",
    "    #---sum up the totals for row and columns---\n",
    "    df_cont.loc[:,'Total']= df_cont.sum(axis=1)\n",
    "    df_cont.loc['Total']= df_cont.sum()\n",
    "    print('---Observed (O)---')\n",
    "    display(df_cont)\n",
    "    #---create the expected value dataframe---\n",
    "    df_exp = df_cont.copy()    \n",
    "    df_exp.iloc[:,:] = np.multiply.outer(\n",
    "        df_cont.sum(1).values,df_cont.sum().values) / \n",
    "        df_cont.sum().sum()            \n",
    "    print('---Expected (E)---')\n",
    "    display(df_exp)\n",
    "        \n",
    "    # calculate chi-square values\n",
    "    df_chi2 = ((df_cont - df_exp)**2) / df_exp    \n",
    "    df_chi2.loc[:,'Total']= df_chi2.sum(axis=1)\n",
    "    df_chi2.loc['Total']= df_chi2.sum()\n",
    "    \n",
    "    print('---Chi-Square---')\n",
    "    display(df_chi2)\n",
    "    #---get chi-square score---   \n",
    "    chi_square_score = df_chi2.iloc[:-1,:-1].sum().sum()\n",
    "    \n",
    "    return chi_square_score, degree_f"
   ]
  },
  {
   "cell_type": "code",
   "execution_count": 47,
   "id": "3f8c70bb",
   "metadata": {},
   "outputs": [
    {
     "data": {
      "text/html": [
       "<div>\n",
       "<style scoped>\n",
       "    .dataframe tbody tr th:only-of-type {\n",
       "        vertical-align: middle;\n",
       "    }\n",
       "\n",
       "    .dataframe tbody tr th {\n",
       "        vertical-align: top;\n",
       "    }\n",
       "\n",
       "    .dataframe thead th {\n",
       "        text-align: right;\n",
       "    }\n",
       "</style>\n",
       "<table border=\"1\" class=\"dataframe\">\n",
       "  <thead>\n",
       "    <tr style=\"text-align: right;\">\n",
       "      <th></th>\n",
       "      <th>index</th>\n",
       "      <th>city</th>\n",
       "      <th>city_development_index</th>\n",
       "      <th>gender</th>\n",
       "      <th>relevent_experience</th>\n",
       "      <th>enrolled_university</th>\n",
       "      <th>education_level</th>\n",
       "      <th>major_discipline</th>\n",
       "      <th>experience</th>\n",
       "      <th>company_size</th>\n",
       "      <th>company_type</th>\n",
       "      <th>last_new_job</th>\n",
       "      <th>training_hours</th>\n",
       "      <th>Target</th>\n",
       "      <th>training_mean</th>\n",
       "      <th>city_development_index_log</th>\n",
       "    </tr>\n",
       "  </thead>\n",
       "  <tbody>\n",
       "    <tr>\n",
       "      <th>0</th>\n",
       "      <td>17007</td>\n",
       "      <td>city_61</td>\n",
       "      <td>0.913</td>\n",
       "      <td>Male</td>\n",
       "      <td>Has relevent experience</td>\n",
       "      <td>no_enrollment</td>\n",
       "      <td>Masters</td>\n",
       "      <td>STEM</td>\n",
       "      <td>4</td>\n",
       "      <td>100-500</td>\n",
       "      <td>NGO</td>\n",
       "      <td>1</td>\n",
       "      <td>22</td>\n",
       "      <td>0.0</td>\n",
       "      <td>54.358974</td>\n",
       "      <td>-0.091019</td>\n",
       "    </tr>\n",
       "    <tr>\n",
       "      <th>1</th>\n",
       "      <td>14755</td>\n",
       "      <td>city_61</td>\n",
       "      <td>0.913</td>\n",
       "      <td>Male</td>\n",
       "      <td>Has relevent experience</td>\n",
       "      <td>no_enrollment</td>\n",
       "      <td>Graduate</td>\n",
       "      <td>STEM</td>\n",
       "      <td>12</td>\n",
       "      <td>&lt;10</td>\n",
       "      <td>Pvt Ltd</td>\n",
       "      <td>1</td>\n",
       "      <td>160</td>\n",
       "      <td>0.0</td>\n",
       "      <td>54.358974</td>\n",
       "      <td>-0.091019</td>\n",
       "    </tr>\n",
       "    <tr>\n",
       "      <th>2</th>\n",
       "      <td>1922</td>\n",
       "      <td>city_61</td>\n",
       "      <td>0.913</td>\n",
       "      <td>Male</td>\n",
       "      <td>Has relevent experience</td>\n",
       "      <td>no_enrollment</td>\n",
       "      <td>Graduate</td>\n",
       "      <td>Other</td>\n",
       "      <td>10</td>\n",
       "      <td>5000-9999</td>\n",
       "      <td>Public Sector</td>\n",
       "      <td>1</td>\n",
       "      <td>7</td>\n",
       "      <td>0.0</td>\n",
       "      <td>54.358974</td>\n",
       "      <td>-0.091019</td>\n",
       "    </tr>\n",
       "    <tr>\n",
       "      <th>3</th>\n",
       "      <td>14970</td>\n",
       "      <td>city_61</td>\n",
       "      <td>0.913</td>\n",
       "      <td>Male</td>\n",
       "      <td>Has relevent experience</td>\n",
       "      <td>no_enrollment</td>\n",
       "      <td>Graduate</td>\n",
       "      <td>STEM</td>\n",
       "      <td>16</td>\n",
       "      <td>500-999</td>\n",
       "      <td>Pvt Ltd</td>\n",
       "      <td>&gt;4</td>\n",
       "      <td>13</td>\n",
       "      <td>0.0</td>\n",
       "      <td>54.358974</td>\n",
       "      <td>-0.091019</td>\n",
       "    </tr>\n",
       "    <tr>\n",
       "      <th>4</th>\n",
       "      <td>5727</td>\n",
       "      <td>city_61</td>\n",
       "      <td>0.913</td>\n",
       "      <td>Male</td>\n",
       "      <td>Has relevent experience</td>\n",
       "      <td>no_enrollment</td>\n",
       "      <td>Graduate</td>\n",
       "      <td>STEM</td>\n",
       "      <td>15</td>\n",
       "      <td>50-99</td>\n",
       "      <td>Pvt Ltd</td>\n",
       "      <td>1</td>\n",
       "      <td>3</td>\n",
       "      <td>0.0</td>\n",
       "      <td>54.358974</td>\n",
       "      <td>-0.091019</td>\n",
       "    </tr>\n",
       "    <tr>\n",
       "      <th>...</th>\n",
       "      <td>...</td>\n",
       "      <td>...</td>\n",
       "      <td>...</td>\n",
       "      <td>...</td>\n",
       "      <td>...</td>\n",
       "      <td>...</td>\n",
       "      <td>...</td>\n",
       "      <td>...</td>\n",
       "      <td>...</td>\n",
       "      <td>...</td>\n",
       "      <td>...</td>\n",
       "      <td>...</td>\n",
       "      <td>...</td>\n",
       "      <td>...</td>\n",
       "      <td>...</td>\n",
       "      <td>...</td>\n",
       "    </tr>\n",
       "    <tr>\n",
       "      <th>6700</th>\n",
       "      <td>9062</td>\n",
       "      <td>city_37</td>\n",
       "      <td>0.794</td>\n",
       "      <td>Male</td>\n",
       "      <td>Has relevent experience</td>\n",
       "      <td>no_enrollment</td>\n",
       "      <td>Graduate</td>\n",
       "      <td>STEM</td>\n",
       "      <td>13</td>\n",
       "      <td>10/49</td>\n",
       "      <td>Pvt Ltd</td>\n",
       "      <td>1</td>\n",
       "      <td>29</td>\n",
       "      <td>0.0</td>\n",
       "      <td>26.000000</td>\n",
       "      <td>-0.230672</td>\n",
       "    </tr>\n",
       "    <tr>\n",
       "      <th>6701</th>\n",
       "      <td>15737</td>\n",
       "      <td>city_37</td>\n",
       "      <td>0.794</td>\n",
       "      <td>Female</td>\n",
       "      <td>Has relevent experience</td>\n",
       "      <td>no_enrollment</td>\n",
       "      <td>Graduate</td>\n",
       "      <td>STEM</td>\n",
       "      <td>9</td>\n",
       "      <td>50-99</td>\n",
       "      <td>Public Sector</td>\n",
       "      <td>1</td>\n",
       "      <td>13</td>\n",
       "      <td>0.0</td>\n",
       "      <td>26.000000</td>\n",
       "      <td>-0.230672</td>\n",
       "    </tr>\n",
       "    <tr>\n",
       "      <th>6702</th>\n",
       "      <td>9219</td>\n",
       "      <td>city_107</td>\n",
       "      <td>0.518</td>\n",
       "      <td>Male</td>\n",
       "      <td>Has relevent experience</td>\n",
       "      <td>no_enrollment</td>\n",
       "      <td>Graduate</td>\n",
       "      <td>STEM</td>\n",
       "      <td>6</td>\n",
       "      <td>100-500</td>\n",
       "      <td>NGO</td>\n",
       "      <td>1</td>\n",
       "      <td>19</td>\n",
       "      <td>0.0</td>\n",
       "      <td>19.000000</td>\n",
       "      <td>-0.657780</td>\n",
       "    </tr>\n",
       "    <tr>\n",
       "      <th>6703</th>\n",
       "      <td>7638</td>\n",
       "      <td>city_127</td>\n",
       "      <td>0.745</td>\n",
       "      <td>Male</td>\n",
       "      <td>Has relevent experience</td>\n",
       "      <td>no_enrollment</td>\n",
       "      <td>Masters</td>\n",
       "      <td>STEM</td>\n",
       "      <td>15</td>\n",
       "      <td>&lt;10</td>\n",
       "      <td>Pvt Ltd</td>\n",
       "      <td>&gt;4</td>\n",
       "      <td>4</td>\n",
       "      <td>0.0</td>\n",
       "      <td>4.000000</td>\n",
       "      <td>-0.294371</td>\n",
       "    </tr>\n",
       "    <tr>\n",
       "      <th>6704</th>\n",
       "      <td>11774</td>\n",
       "      <td>city_139</td>\n",
       "      <td>0.487</td>\n",
       "      <td>Male</td>\n",
       "      <td>Has relevent experience</td>\n",
       "      <td>Part time course</td>\n",
       "      <td>Graduate</td>\n",
       "      <td>STEM</td>\n",
       "      <td>5</td>\n",
       "      <td>10/49</td>\n",
       "      <td>Pvt Ltd</td>\n",
       "      <td>1</td>\n",
       "      <td>92</td>\n",
       "      <td>0.0</td>\n",
       "      <td>92.000000</td>\n",
       "      <td>-0.719491</td>\n",
       "    </tr>\n",
       "  </tbody>\n",
       "</table>\n",
       "<p>6705 rows × 16 columns</p>\n",
       "</div>"
      ],
      "text/plain": [
       "      index      city  city_development_index  gender  \\\n",
       "0     17007   city_61                   0.913    Male   \n",
       "1     14755   city_61                   0.913    Male   \n",
       "2      1922   city_61                   0.913    Male   \n",
       "3     14970   city_61                   0.913    Male   \n",
       "4      5727   city_61                   0.913    Male   \n",
       "...     ...       ...                     ...     ...   \n",
       "6700   9062   city_37                   0.794    Male   \n",
       "6701  15737   city_37                   0.794  Female   \n",
       "6702   9219  city_107                   0.518    Male   \n",
       "6703   7638  city_127                   0.745    Male   \n",
       "6704  11774  city_139                   0.487    Male   \n",
       "\n",
       "          relevent_experience enrolled_university education_level  \\\n",
       "0     Has relevent experience       no_enrollment         Masters   \n",
       "1     Has relevent experience       no_enrollment        Graduate   \n",
       "2     Has relevent experience       no_enrollment        Graduate   \n",
       "3     Has relevent experience       no_enrollment        Graduate   \n",
       "4     Has relevent experience       no_enrollment        Graduate   \n",
       "...                       ...                 ...             ...   \n",
       "6700  Has relevent experience       no_enrollment        Graduate   \n",
       "6701  Has relevent experience       no_enrollment        Graduate   \n",
       "6702  Has relevent experience       no_enrollment        Graduate   \n",
       "6703  Has relevent experience       no_enrollment         Masters   \n",
       "6704  Has relevent experience    Part time course        Graduate   \n",
       "\n",
       "     major_discipline experience company_size   company_type last_new_job  \\\n",
       "0                STEM          4      100-500            NGO            1   \n",
       "1                STEM         12          <10        Pvt Ltd            1   \n",
       "2               Other         10    5000-9999  Public Sector            1   \n",
       "3                STEM         16      500-999        Pvt Ltd           >4   \n",
       "4                STEM         15        50-99        Pvt Ltd            1   \n",
       "...               ...        ...          ...            ...          ...   \n",
       "6700             STEM         13        10/49        Pvt Ltd            1   \n",
       "6701             STEM          9        50-99  Public Sector            1   \n",
       "6702             STEM          6      100-500            NGO            1   \n",
       "6703             STEM         15          <10        Pvt Ltd           >4   \n",
       "6704             STEM          5        10/49        Pvt Ltd            1   \n",
       "\n",
       "      training_hours  Target  training_mean  city_development_index_log  \n",
       "0                 22     0.0      54.358974                   -0.091019  \n",
       "1                160     0.0      54.358974                   -0.091019  \n",
       "2                  7     0.0      54.358974                   -0.091019  \n",
       "3                 13     0.0      54.358974                   -0.091019  \n",
       "4                  3     0.0      54.358974                   -0.091019  \n",
       "...              ...     ...            ...                         ...  \n",
       "6700              29     0.0      26.000000                   -0.230672  \n",
       "6701              13     0.0      26.000000                   -0.230672  \n",
       "6702              19     0.0      19.000000                   -0.657780  \n",
       "6703               4     0.0       4.000000                   -0.294371  \n",
       "6704              92     0.0      92.000000                   -0.719491  \n",
       "\n",
       "[6705 rows x 16 columns]"
      ]
     },
     "execution_count": 47,
     "metadata": {},
     "output_type": "execute_result"
    }
   ],
   "source": [
    "data2"
   ]
  },
  {
   "cell_type": "code",
   "execution_count": null,
   "id": "7aec72eb",
   "metadata": {},
   "outputs": [],
   "source": []
  }
 ],
 "metadata": {
  "kernelspec": {
   "display_name": "Python 3 (ipykernel)",
   "language": "python",
   "name": "python3"
  },
  "language_info": {
   "codemirror_mode": {
    "name": "ipython",
    "version": 3
   },
   "file_extension": ".py",
   "mimetype": "text/x-python",
   "name": "python",
   "nbconvert_exporter": "python",
   "pygments_lexer": "ipython3",
   "version": "3.10.2"
  }
 },
 "nbformat": 4,
 "nbformat_minor": 5
}
