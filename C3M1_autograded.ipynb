{
 "cells": [
  {
   "cell_type": "markdown",
   "metadata": {
    "deletable": false,
    "editable": false,
    "nbgrader": {
     "cell_type": "markdown",
     "checksum": "c2198530448ed7287a029819aed5943a",
     "grade": false,
     "grade_id": "cell-c66263f4ea9092d7",
     "locked": true,
     "schema_version": 3,
     "solution": false,
     "task": false
    }
   },
   "source": [
    "# C3M1: Autograded Assignment"
   ]
  },
  {
   "cell_type": "markdown",
   "metadata": {
    "deletable": false,
    "editable": false,
    "nbgrader": {
     "cell_type": "markdown",
     "checksum": "82e556abc62485ec8b712966decf6c3f",
     "grade": false,
     "grade_id": "cell-bf71a5a5373f5dda",
     "locked": true,
     "schema_version": 3,
     "solution": false,
     "task": false
    }
   },
   "source": [
    "### Outline:\n",
    "**Here are the objectives of this assignment:**\n",
    "\n",
    "1. Familiarize yourself with odds and how they convert to probabilities.\n",
    "2. Review Maximum Likelihood Estimates.\n",
    "3. Understand the difference between Binomial Regression and Logistic Regression.\n",
    "4. Get a basic understanding of Logistic regression models and properties.\n",
    "5. Apply Logistic Regression techniques to real data.\n",
    "\n",
    "**Here are some general tips:**\n",
    "\n",
    "1. Read the questions carefully to understand what is being asked.\n",
    "2. When you feel that your work is completed, feel free to hit the ```Validate``` button to see your results on the *visible* unit tests. If you have questions about unit testing, please refer to the \"Module 0: Introduction\" notebook provided as an optional resource for this course. In this assignment, there are hidden unit tests that check your code. You will not recieve any feedback for failed hidden unit tests until the assignment is submitted. **Do not misinterpret the feedback from visible unit tests as all possible tests for a given question--write your code carefully!**\n",
    "3. Before submitting, we recommend restarting the kernel and running all the cells in order that they appear to make sure that there are no additional bugs in your code."
   ]
  },
  {
   "cell_type": "code",
   "execution_count": 1,
   "metadata": {
    "deletable": false,
    "editable": false,
    "nbgrader": {
     "cell_type": "code",
     "checksum": "29ac22761e06ea50210ebda316f7156f",
     "grade": false,
     "grade_id": "cell-0f10a1b79e686e03",
     "locked": true,
     "schema_version": 3,
     "solution": false,
     "task": false
    }
   },
   "outputs": [
    {
     "name": "stderr",
     "output_type": "stream",
     "text": [
      "── \u001b[1mAttaching packages\u001b[22m ─────────────────────────────────────── tidyverse 1.3.0 ──\n",
      "\n",
      "\u001b[32m✔\u001b[39m \u001b[34mggplot2\u001b[39m 3.3.0     \u001b[32m✔\u001b[39m \u001b[34mpurrr  \u001b[39m 0.3.4\n",
      "\u001b[32m✔\u001b[39m \u001b[34mtibble \u001b[39m 3.0.1     \u001b[32m✔\u001b[39m \u001b[34mdplyr  \u001b[39m 0.8.5\n",
      "\u001b[32m✔\u001b[39m \u001b[34mtidyr  \u001b[39m 1.0.2     \u001b[32m✔\u001b[39m \u001b[34mstringr\u001b[39m 1.4.0\n",
      "\u001b[32m✔\u001b[39m \u001b[34mreadr  \u001b[39m 1.3.1     \u001b[32m✔\u001b[39m \u001b[34mforcats\u001b[39m 0.5.0\n",
      "\n",
      "── \u001b[1mConflicts\u001b[22m ────────────────────────────────────────── tidyverse_conflicts() ──\n",
      "\u001b[31m✖\u001b[39m \u001b[34mdplyr\u001b[39m::\u001b[32mfilter()\u001b[39m  masks \u001b[34mstats\u001b[39m::filter()\n",
      "\u001b[31m✖\u001b[39m \u001b[34mpurrr\u001b[39m::\u001b[32mis_null()\u001b[39m masks \u001b[34mtestthat\u001b[39m::is_null()\n",
      "\u001b[31m✖\u001b[39m \u001b[34mdplyr\u001b[39m::\u001b[32mlag()\u001b[39m     masks \u001b[34mstats\u001b[39m::lag()\n",
      "\u001b[31m✖\u001b[39m \u001b[34mdplyr\u001b[39m::\u001b[32mmatches()\u001b[39m masks \u001b[34mtidyr\u001b[39m::matches(), \u001b[34mtestthat\u001b[39m::matches()\n",
      "\n",
      "\n",
      "Attaching package: ‘MASS’\n",
      "\n",
      "\n",
      "The following object is masked from ‘package:dplyr’:\n",
      "\n",
      "    select\n",
      "\n",
      "\n"
     ]
    }
   ],
   "source": [
    "# Load necesary libraries\n",
    "library(testthat)\n",
    "library(tidyverse)\n",
    "library(MASS)\n",
    "library(ggplot2)"
   ]
  },
  {
   "cell_type": "markdown",
   "metadata": {
    "deletable": false,
    "editable": false,
    "nbgrader": {
     "cell_type": "markdown",
     "checksum": "bff9a1d9b544c252fc0f1f99411673f5",
     "grade": false,
     "grade_id": "cell-32a71129898a1ded",
     "locked": true,
     "schema_version": 3,
     "solution": false,
     "task": false
    }
   },
   "source": [
    "# Problem 1: Logistic Regression Basics\n",
    "\n",
    "Welcome to your first autograded assignment for Generalize Linear Models and Nonparametric Regression. Instead of throwing you directly into the code, let's start off slow with some conceptual questions. We will get to the actual coding part shortly."
   ]
  },
  {
   "cell_type": "markdown",
   "metadata": {
    "deletable": false,
    "editable": false,
    "nbgrader": {
     "cell_type": "markdown",
     "checksum": "98f8f86ca4721ebd79486c671defc08c",
     "grade": false,
     "grade_id": "cell-9b8ab7a03080a667",
     "locked": true,
     "schema_version": 3,
     "solution": false,
     "task": false
    }
   },
   "source": [
    "### 1. (a) Odds and Ends (5 points each)\n",
    "\n",
    "For each of the following questions, save your answer in the respecitve variable for that problem. You don't need to show your work, just submit your final answer.\n",
    "\n",
    "\n",
    "1. What is the equivalent odds for the probability $0.25$?\n",
    "2. You are testing a new drug and have gathered binary data on whether the drug performed its desired effects. From the control trial, 102 people saw improvement with a placebo and 241 did not. With the drug, 67 people saw improvement and 82 did not. What is the odds ratio of these results?\n",
    "3. You've decided to determine the probability of a picture containing an animal on social media. On 6 different days, you look at 10 random pictures and record the number of pictures that contain at least one animal, and get the values $\\{6, 10, 7, 9, 5, 9\\}$. Given these results, what is the MLE for the probability of a picture containing an animal?"
   ]
  },
  {
   "cell_type": "code",
   "execution_count": 3,
   "metadata": {
    "deletable": false,
    "nbgrader": {
     "cell_type": "code",
     "checksum": "e709cee883b82f26c2890e23db739830",
     "grade": false,
     "grade_id": "cell-ebd6747b8d9df577",
     "locked": false,
     "schema_version": 3,
     "solution": true,
     "task": false
    }
   },
   "outputs": [],
   "source": [
    "# Answer each with the correct numeric value.\n",
    "prob.1.a.1 = 0.33\n",
    "\n",
    "prob.1.a.2 = 0.52\n",
    "\n",
    "prob.1.a.3 = 2.717\n",
    "\n",
    "p=0.25\n",
    "prob.1.a.1=p/(1-p)\n",
    "print(prob.1.a.1)\n",
    "\n",
    "prob.1.a.2 = (102*82)/(67*241)\n",
    "\n",
    "prob.1.a.3 = ((6*0)+(10*1)+(7*2)+(9*3)+(5*4)+(9*5))/46\n",
    "\n",
    "\n",
    "prob.1.a.1 = 0.333 #CORRECT\n",
    "\n",
    "prob.1.a.2 = 1.931 #CORRECT\n",
    "\n",
    "prob.1.a.3 = 0.7667 #CORRECT\n"
   ]
  },
  {
   "cell_type": "code",
   "execution_count": 4,
   "metadata": {
    "deletable": false,
    "editable": false,
    "nbgrader": {
     "cell_type": "code",
     "checksum": "2e7d17365323b3bfa7457ee90963a4a4",
     "grade": true,
     "grade_id": "cell-40045dbf4a1fac9f",
     "locked": true,
     "points": 4,
     "schema_version": 3,
     "solution": false,
     "task": false
    }
   },
   "outputs": [],
   "source": [
    "# Test Cell \n",
    "# Be aware, there may be hidden tests that you don't see the answer to. \n",
    "# Even if your answers pass all the visible tests, there may be hidden tests that you're not passing."
   ]
  },
  {
   "cell_type": "code",
   "execution_count": 5,
   "metadata": {
    "deletable": false,
    "editable": false,
    "nbgrader": {
     "cell_type": "code",
     "checksum": "b9fa8316b92eea90df8d3967f452b1b5",
     "grade": true,
     "grade_id": "cell-cf8e40695a129f16",
     "locked": true,
     "points": 4,
     "schema_version": 3,
     "solution": false,
     "task": false
    }
   },
   "outputs": [],
   "source": [
    "# Test Cell \n",
    "# Be aware, there may be hidden tests that you don't see the answer to. \n",
    "# Even if your answers pass all the visible tests, there may be hidden tests that you're not passing."
   ]
  },
  {
   "cell_type": "code",
   "execution_count": 6,
   "metadata": {
    "deletable": false,
    "editable": false,
    "nbgrader": {
     "cell_type": "code",
     "checksum": "e13ce536b444998456f172b0ed7cd076",
     "grade": true,
     "grade_id": "cell-1ac4cc2055a0166b",
     "locked": true,
     "points": 4,
     "schema_version": 3,
     "solution": false,
     "task": false
    }
   },
   "outputs": [],
   "source": [
    "# Test Cell \n",
    "# Be aware, there may be hidden tests that you don't see the answer to. \n",
    "# Even if your answers pass all the visible tests, there may be hidden tests that you're not passing."
   ]
  },
  {
   "cell_type": "markdown",
   "metadata": {
    "deletable": false,
    "editable": false,
    "nbgrader": {
     "cell_type": "markdown",
     "checksum": "b6001eb9a724ad5b7cf5e3678bb047b4",
     "grade": false,
     "grade_id": "cell-e4f7d84c6dfa529e",
     "locked": true,
     "schema_version": 3,
     "solution": false,
     "task": false
    }
   },
   "source": [
    "### 1. (b) Logistic Regression TRUE/FALSE\n",
    "\n",
    "For each of the following questions, save the boolean `TRUE` or `FALSE` (case sensitive) in the corresponding variable. \n",
    "\n",
    "1. Accuracy, Log-Loss and Mean-Squared Error are all evaulation metrics that can be used with Logistic Regression.\n",
    "2. The Logit link function is defined as the log of the odds function. Therefor, the Logit function has a range of $[0, \\infty]$.\n",
    "3. Suppose you fit a Logistic Regression classifier to a response variable $\\in \\{0, 1\\}$ and get $y = g(\\beta_0 + \\beta_1x_1 + \\beta_2x_2)$ where $\\beta_0 = 4, \\beta_1=1, \\beta_2=-2$ and $g()$ is the link function. Then the input $x_i=(1, 3)$ would be classified as $0$."
   ]
  },
  {
   "cell_type": "code",
   "execution_count": 7,
   "metadata": {
    "deletable": false,
    "nbgrader": {
     "cell_type": "code",
     "checksum": "eda6c4136ddd0b2d5243f52ed476b97e",
     "grade": false,
     "grade_id": "cell-67f4b99147834407",
     "locked": false,
     "schema_version": 3,
     "solution": true,
     "task": false
    }
   },
   "outputs": [],
   "source": [
    "# Answer each with either TRUE or FALSE.\n",
    "prob.1.b.1 = TRUE\n",
    "\n",
    "prob.1.b.2 = FALSE\n",
    "\n",
    "prob.1.b.3 = TRUE\n",
    "\n",
    "# your code here\n",
    "prob.1.b.1 = FALSE #CORRECT\n",
    "\n",
    "prob.1.b.2 = FALSE #CORRECT\n",
    "\n",
    "prob.1.b.3 = TRUE #CORRECT\n"
   ]
  },
  {
   "cell_type": "code",
   "execution_count": 8,
   "metadata": {
    "deletable": false,
    "editable": false,
    "nbgrader": {
     "cell_type": "code",
     "checksum": "1db0623daf1fa1bca8f403e95bb5b1be",
     "grade": true,
     "grade_id": "cell-3356b8377261c954",
     "locked": true,
     "points": 5,
     "schema_version": 3,
     "solution": false,
     "task": false
    }
   },
   "outputs": [],
   "source": [
    "# Test Cell\n",
    "\n",
    "# This cell has hidden test cases that will run after submission."
   ]
  },
  {
   "cell_type": "code",
   "execution_count": 9,
   "metadata": {
    "deletable": false,
    "editable": false,
    "nbgrader": {
     "cell_type": "code",
     "checksum": "48aff908361422bb05b140ae760b6f1d",
     "grade": true,
     "grade_id": "cell-798322a0cb819072",
     "locked": true,
     "points": 5,
     "schema_version": 3,
     "solution": false,
     "task": false
    }
   },
   "outputs": [],
   "source": [
    "# Test Cell\n",
    "# This cell has hidden test cases that will run after submission."
   ]
  },
  {
   "cell_type": "code",
   "execution_count": 10,
   "metadata": {
    "deletable": false,
    "editable": false,
    "nbgrader": {
     "cell_type": "code",
     "checksum": "4b71ed1406e69516b61d23d5c3b8ab5d",
     "grade": true,
     "grade_id": "cell-95dd05f95c82320c",
     "locked": true,
     "points": 5,
     "schema_version": 3,
     "solution": false,
     "task": false
    }
   },
   "outputs": [],
   "source": [
    "# Test Cell\n",
    "# This cell has hidden test cases that will run after submission."
   ]
  },
  {
   "cell_type": "markdown",
   "metadata": {
    "deletable": false,
    "editable": false,
    "nbgrader": {
     "cell_type": "markdown",
     "checksum": "8dc3ee1f4617be07d6da046c7f009a72",
     "grade": false,
     "grade_id": "cell-a251c086420d4b5e",
     "locked": true,
     "schema_version": 3,
     "solution": false,
     "task": false
    }
   },
   "source": [
    "# Problem 2: Froggy Apple Crumple Thumpkin\n",
    "\n",
    "Apparently, other organisms like apple juice too. So much so that some researchers decided to measure the growth of certain bacteria in different apple juice solutions. They measured whether different pH, temperature and molecular concentrations affected the growth of Alicyclobacillus Acidoterrestris CRA7152. \n",
    "\n",
    "Lets use their data to practice our Binomial (Logistic) modelling skills. We use the code cell below to load in the data."
   ]
  },
  {
   "cell_type": "code",
   "execution_count": 2,
   "metadata": {
    "deletable": false,
    "editable": false,
    "nbgrader": {
     "cell_type": "code",
     "checksum": "e377ddddf888067062bb2ff0bd054485",
     "grade": false,
     "grade_id": "cell-71a09113c758e9d1",
     "locked": true,
     "schema_version": 3,
     "solution": false,
     "task": false
    }
   },
   "outputs": [
    {
     "data": {
      "text/html": [
       "<table class=\"dataframe\">\n",
       "<caption>A data.frame: 6 × 5</caption>\n",
       "<thead>\n",
       "\t<tr><th></th><th scope=col>pH</th><th scope=col>nisin</th><th scope=col>temp</th><th scope=col>brix</th><th scope=col>growth</th></tr>\n",
       "\t<tr><th></th><th scope=col>&lt;dbl&gt;</th><th scope=col>&lt;int&gt;</th><th scope=col>&lt;int&gt;</th><th scope=col>&lt;int&gt;</th><th scope=col>&lt;fct&gt;</th></tr>\n",
       "</thead>\n",
       "<tbody>\n",
       "\t<tr><th scope=row>1</th><td>5.5</td><td>70</td><td>43</td><td>19</td><td>0</td></tr>\n",
       "\t<tr><th scope=row>2</th><td>5.5</td><td>50</td><td>43</td><td>13</td><td>1</td></tr>\n",
       "\t<tr><th scope=row>3</th><td>5.5</td><td>50</td><td>35</td><td>15</td><td>1</td></tr>\n",
       "\t<tr><th scope=row>4</th><td>5.5</td><td>30</td><td>35</td><td>13</td><td>1</td></tr>\n",
       "\t<tr><th scope=row>5</th><td>5.5</td><td>30</td><td>25</td><td>11</td><td>0</td></tr>\n",
       "\t<tr><th scope=row>6</th><td>5.5</td><td> 0</td><td>50</td><td>19</td><td>0</td></tr>\n",
       "</tbody>\n",
       "</table>\n"
      ],
      "text/latex": [
       "A data.frame: 6 × 5\n",
       "\\begin{tabular}{r|lllll}\n",
       "  & pH & nisin & temp & brix & growth\\\\\n",
       "  & <dbl> & <int> & <int> & <int> & <fct>\\\\\n",
       "\\hline\n",
       "\t1 & 5.5 & 70 & 43 & 19 & 0\\\\\n",
       "\t2 & 5.5 & 50 & 43 & 13 & 1\\\\\n",
       "\t3 & 5.5 & 50 & 35 & 15 & 1\\\\\n",
       "\t4 & 5.5 & 30 & 35 & 13 & 1\\\\\n",
       "\t5 & 5.5 & 30 & 25 & 11 & 0\\\\\n",
       "\t6 & 5.5 &  0 & 50 & 19 & 0\\\\\n",
       "\\end{tabular}\n"
      ],
      "text/markdown": [
       "\n",
       "A data.frame: 6 × 5\n",
       "\n",
       "| <!--/--> | pH &lt;dbl&gt; | nisin &lt;int&gt; | temp &lt;int&gt; | brix &lt;int&gt; | growth &lt;fct&gt; |\n",
       "|---|---|---|---|---|---|\n",
       "| 1 | 5.5 | 70 | 43 | 19 | 0 |\n",
       "| 2 | 5.5 | 50 | 43 | 13 | 1 |\n",
       "| 3 | 5.5 | 50 | 35 | 15 | 1 |\n",
       "| 4 | 5.5 | 30 | 35 | 13 | 1 |\n",
       "| 5 | 5.5 | 30 | 25 | 11 | 0 |\n",
       "| 6 | 5.5 |  0 | 50 | 19 | 0 |\n",
       "\n"
      ],
      "text/plain": [
       "  pH  nisin temp brix growth\n",
       "1 5.5 70    43   19   0     \n",
       "2 5.5 50    43   13   1     \n",
       "3 5.5 50    35   15   1     \n",
       "4 5.5 30    35   13   1     \n",
       "5 5.5 30    25   11   0     \n",
       "6 5.5  0    50   19   0     "
      ]
     },
     "metadata": {},
     "output_type": "display_data"
    }
   ],
   "source": [
    "# Load the data\n",
    "apple.data = read.csv(\"apple_juice.dat\", sep=\"\")\n",
    "names(apple.data) = c(\"pH\", \"nisin\", \"temp\", \"brix\", \"growth\")\n",
    "apple.data$growth = as.factor(apple.data$growth)\n",
    "\n",
    "head(apple.data)"
   ]
  },
  {
   "cell_type": "markdown",
   "metadata": {
    "deletable": false,
    "editable": false,
    "nbgrader": {
     "cell_type": "markdown",
     "checksum": "42dd9120acaa8d2d1482ff8e96baad8b",
     "grade": false,
     "grade_id": "cell-fa4fa6defd408bf2",
     "locked": true,
     "schema_version": 3,
     "solution": false,
     "task": false
    }
   },
   "source": [
    "### 2. (a) Creating the Model\n",
    "\n",
    "Fit a logistic regression model to the data, with `growth` as the response and all other variables as the predictors. Save this model as `glmod.apple`. Can you tell whether this model is better than the null model?"
   ]
  },
  {
   "cell_type": "code",
   "execution_count": 9,
   "metadata": {
    "deletable": false,
    "nbgrader": {
     "cell_type": "code",
     "checksum": "f4c87e2c04600e906dd5d576670fdfb4",
     "grade": false,
     "grade_id": "cell-024af41fd5a18784",
     "locked": false,
     "schema_version": 3,
     "solution": true,
     "task": false
    }
   },
   "outputs": [
    {
     "data": {
      "text/plain": [
       "\n",
       "Call:\n",
       "glm(formula = growth ~ ., family = binomial, data = apple.data)\n",
       "\n",
       "Deviance Residuals: \n",
       "    Min       1Q   Median       3Q      Max  \n",
       "-2.3245  -0.4325  -0.1415   0.5308   1.5593  \n",
       "\n",
       "Coefficients:\n",
       "            Estimate Std. Error z value Pr(>|z|)    \n",
       "(Intercept) -7.68363    3.28201  -2.341 0.019225 *  \n",
       "pH           2.04908    0.57481   3.565 0.000364 ***\n",
       "nisin       -0.06273    0.01910  -3.283 0.001026 ** \n",
       "temp         0.12532    0.05079   2.467 0.013614 *  \n",
       "brix        -0.38000    0.15909  -2.389 0.016915 *  \n",
       "---\n",
       "Signif. codes:  0 '***' 0.001 '**' 0.01 '*' 0.05 '.' 0.1 ' ' 1\n",
       "\n",
       "(Dispersion parameter for binomial family taken to be 1)\n",
       "\n",
       "    Null deviance: 95.072  on 72  degrees of freedom\n",
       "Residual deviance: 49.844  on 68  degrees of freedom\n",
       "AIC: 59.844\n",
       "\n",
       "Number of Fisher Scoring iterations: 6\n"
      ]
     },
     "metadata": {},
     "output_type": "display_data"
    },
    {
     "data": {
      "text/plain": [
       "\n",
       "Call:\n",
       "glm(formula = growth ~ ., family = binomial, data = apple.data)\n",
       "\n",
       "Deviance Residuals: \n",
       "    Min       1Q   Median       3Q      Max  \n",
       "-2.3245  -0.4325  -0.1415   0.5308   1.5593  \n",
       "\n",
       "Coefficients:\n",
       "            Estimate Std. Error z value Pr(>|z|)    \n",
       "(Intercept) -7.68363    3.28201  -2.341 0.019225 *  \n",
       "pH           2.04908    0.57481   3.565 0.000364 ***\n",
       "nisin       -0.06273    0.01910  -3.283 0.001026 ** \n",
       "temp         0.12532    0.05079   2.467 0.013614 *  \n",
       "brix        -0.38000    0.15909  -2.389 0.016915 *  \n",
       "---\n",
       "Signif. codes:  0 '***' 0.001 '**' 0.01 '*' 0.05 '.' 0.1 ' ' 1\n",
       "\n",
       "(Dispersion parameter for binomial family taken to be 1)\n",
       "\n",
       "    Null deviance: 95.072  on 72  degrees of freedom\n",
       "Residual deviance: 49.844  on 68  degrees of freedom\n",
       "AIC: 59.844\n",
       "\n",
       "Number of Fisher Scoring iterations: 6\n"
      ]
     },
     "metadata": {},
     "output_type": "display_data"
    }
   ],
   "source": [
    "glmod.apple =  glm(growth~.,data=apple.data, family=binomial)\n",
    "summary(glmod.apple)\n",
    "# your code here # CORRECT\n",
    "glmod.apple <- glm(growth~.,data=apple.data, family=binomial)\n",
    "summary(glmod.apple)\n"
   ]
  },
  {
   "cell_type": "code",
   "execution_count": 13,
   "metadata": {
    "deletable": false,
    "editable": false,
    "nbgrader": {
     "cell_type": "code",
     "checksum": "5197c7b811746eec2a9f712a8613b5be",
     "grade": true,
     "grade_id": "cell-5080653dd9a6d6b8",
     "locked": true,
     "points": 8,
     "schema_version": 3,
     "solution": false,
     "task": false
    }
   },
   "outputs": [],
   "source": [
    "# Test Cell\n",
    "# This cell has hidden test cases that will run after submission."
   ]
  },
  {
   "cell_type": "markdown",
   "metadata": {
    "deletable": false,
    "editable": false,
    "nbgrader": {
     "cell_type": "markdown",
     "checksum": "69f25487962d79ed9520f270e92f8b06",
     "grade": false,
     "grade_id": "cell-c62f1c606555313e",
     "locked": true,
     "schema_version": 3,
     "solution": false,
     "task": false
    }
   },
   "source": [
    "### 2. (b) The Effects of Temp\n",
    "\n",
    "What if we want to determine how a specific predictor affects the probability (or odds, in the Logistic Regression case) of `growth=1`? One idea would be to calculate the odds of growth, given different levels of that predictor, while keeping all other predictors constant. Then we could compare the difference between the odds, to see if a larger predictor resulted in a larger probability.\n",
    "\n",
    "Using your model, calculate the odds of growth with a temperature at the first quartile and at the third quartile, assuming all other features are held constant. Then calculate the difference between the two and store that value as `temp.odds.diff`. \n",
    "\n",
    "To calculate this difference, it may be helpful to first think through this equation. Note that $o_i$ is the odds of growth for the $i^{th}$ quantile.\n",
    "\n",
    "$$d = \\frac{o_1}{o_3} = \\exp \\Big( \\log( o_1 / o_3 ) \\Big) = \\exp \\Big( \\eta_1 - \\eta_3 \\Big) = \\dots$$\n",
    "\n",
    "If we let this difference be $d$, then this value can be interpreted as \"The odds of showing evidence of growth is $d\\%$ more/less when the temperature is in the first quantile than in the third quantile, when adjusted for other predictors.\""
   ]
  },
  {
   "cell_type": "code",
   "execution_count": 10,
   "metadata": {
    "deletable": false,
    "nbgrader": {
     "cell_type": "code",
     "checksum": "dc376de6724cf70b32a75fd4976a45cf",
     "grade": false,
     "grade_id": "cell-7414765f9a299f1f",
     "locked": false,
     "schema_version": 3,
     "solution": true,
     "task": false
    }
   },
   "outputs": [
    {
     "data": {
      "text/html": [
       "73"
      ],
      "text/latex": [
       "73"
      ],
      "text/markdown": [
       "73"
      ],
      "text/plain": [
       "[1] 73"
      ]
     },
     "metadata": {},
     "output_type": "display_data"
    },
    {
     "data": {
      "text/html": [
       "<table class=\"dataframe\">\n",
       "<caption>A data.frame: 6 × 5</caption>\n",
       "<thead>\n",
       "\t<tr><th></th><th scope=col>pH</th><th scope=col>nisin</th><th scope=col>temp</th><th scope=col>brix</th><th scope=col>growth</th></tr>\n",
       "\t<tr><th></th><th scope=col>&lt;dbl&gt;</th><th scope=col>&lt;int&gt;</th><th scope=col>&lt;int&gt;</th><th scope=col>&lt;int&gt;</th><th scope=col>&lt;fct&gt;</th></tr>\n",
       "</thead>\n",
       "<tbody>\n",
       "\t<tr><th scope=row>1</th><td>5.5</td><td>70</td><td>43</td><td>19</td><td>0</td></tr>\n",
       "\t<tr><th scope=row>2</th><td>5.5</td><td>50</td><td>43</td><td>13</td><td>1</td></tr>\n",
       "\t<tr><th scope=row>3</th><td>5.5</td><td>50</td><td>35</td><td>15</td><td>1</td></tr>\n",
       "\t<tr><th scope=row>4</th><td>5.5</td><td>30</td><td>35</td><td>13</td><td>1</td></tr>\n",
       "\t<tr><th scope=row>5</th><td>5.5</td><td>30</td><td>25</td><td>11</td><td>0</td></tr>\n",
       "\t<tr><th scope=row>6</th><td>5.5</td><td> 0</td><td>50</td><td>19</td><td>0</td></tr>\n",
       "</tbody>\n",
       "</table>\n"
      ],
      "text/latex": [
       "A data.frame: 6 × 5\n",
       "\\begin{tabular}{r|lllll}\n",
       "  & pH & nisin & temp & brix & growth\\\\\n",
       "  & <dbl> & <int> & <int> & <int> & <fct>\\\\\n",
       "\\hline\n",
       "\t1 & 5.5 & 70 & 43 & 19 & 0\\\\\n",
       "\t2 & 5.5 & 50 & 43 & 13 & 1\\\\\n",
       "\t3 & 5.5 & 50 & 35 & 15 & 1\\\\\n",
       "\t4 & 5.5 & 30 & 35 & 13 & 1\\\\\n",
       "\t5 & 5.5 & 30 & 25 & 11 & 0\\\\\n",
       "\t6 & 5.5 &  0 & 50 & 19 & 0\\\\\n",
       "\\end{tabular}\n"
      ],
      "text/markdown": [
       "\n",
       "A data.frame: 6 × 5\n",
       "\n",
       "| <!--/--> | pH &lt;dbl&gt; | nisin &lt;int&gt; | temp &lt;int&gt; | brix &lt;int&gt; | growth &lt;fct&gt; |\n",
       "|---|---|---|---|---|---|\n",
       "| 1 | 5.5 | 70 | 43 | 19 | 0 |\n",
       "| 2 | 5.5 | 50 | 43 | 13 | 1 |\n",
       "| 3 | 5.5 | 50 | 35 | 15 | 1 |\n",
       "| 4 | 5.5 | 30 | 35 | 13 | 1 |\n",
       "| 5 | 5.5 | 30 | 25 | 11 | 0 |\n",
       "| 6 | 5.5 |  0 | 50 | 19 | 0 |\n",
       "\n"
      ],
      "text/plain": [
       "  pH  nisin temp brix growth\n",
       "1 5.5 70    43   19   0     \n",
       "2 5.5 50    43   13   1     \n",
       "3 5.5 50    35   15   1     \n",
       "4 5.5 30    35   13   1     \n",
       "5 5.5 30    25   11   0     \n",
       "6 5.5  0    50   19   0     "
      ]
     },
     "metadata": {},
     "output_type": "display_data"
    },
    {
     "data": {
      "text/html": [
       "<style>\n",
       ".dl-inline {width: auto; margin:0; padding: 0}\n",
       ".dl-inline>dt, .dl-inline>dd {float: none; width: auto; display: inline-block}\n",
       ".dl-inline>dt::after {content: \":\\0020\"; padding-right: .5ex}\n",
       ".dl-inline>dt:not(:first-of-type) {padding-left: .5ex}\n",
       "</style><dl class=dl-inline><dt>0%</dt><dd>0</dd><dt>25%</dt><dd>0</dd><dt>50%</dt><dd>0</dd><dt>75%</dt><dd>0</dd><dt>100%</dt><dd>1</dd></dl>\n"
      ],
      "text/latex": [
       "\\begin{description*}\n",
       "\\item[0\\textbackslash{}\\%] 0\n",
       "\\item[25\\textbackslash{}\\%] 0\n",
       "\\item[50\\textbackslash{}\\%] 0\n",
       "\\item[75\\textbackslash{}\\%] 0\n",
       "\\item[100\\textbackslash{}\\%] 1\n",
       "\\end{description*}\n"
      ],
      "text/markdown": [
       "0%\n",
       ":   025%\n",
       ":   050%\n",
       ":   075%\n",
       ":   0100%\n",
       ":   1\n",
       "\n"
      ],
      "text/plain": [
       "  0%  25%  50%  75% 100% \n",
       "   0    0    0    0    1 "
      ]
     },
     "metadata": {},
     "output_type": "display_data"
    },
    {
     "data": {
      "text/html": [
       "<style>\n",
       ".dl-inline {width: auto; margin:0; padding: 0}\n",
       ".dl-inline>dt, .dl-inline>dd {float: none; width: auto; display: inline-block}\n",
       ".dl-inline>dt::after {content: \":\\0020\"; padding-right: .5ex}\n",
       ".dl-inline>dt:not(:first-of-type) {padding-left: .5ex}\n",
       "</style><dl class=dl-inline><dt>0%</dt><dd>0</dd><dt>25%</dt><dd>0</dd><dt>50%</dt><dd>0</dd><dt>75%</dt><dd>0</dd><dt>100%</dt><dd>0</dd></dl>\n"
      ],
      "text/latex": [
       "\\begin{description*}\n",
       "\\item[0\\textbackslash{}\\%] 0\n",
       "\\item[25\\textbackslash{}\\%] 0\n",
       "\\item[50\\textbackslash{}\\%] 0\n",
       "\\item[75\\textbackslash{}\\%] 0\n",
       "\\item[100\\textbackslash{}\\%] 0\n",
       "\\end{description*}\n"
      ],
      "text/markdown": [
       "0%\n",
       ":   025%\n",
       ":   050%\n",
       ":   075%\n",
       ":   0100%\n",
       ":   0\n",
       "\n"
      ],
      "text/plain": [
       "  0%  25%  50%  75% 100% \n",
       "   0    0    0    0    0 "
      ]
     },
     "metadata": {},
     "output_type": "display_data"
    },
    {
     "data": {
      "text/plain": [
       "\n",
       "Call:\n",
       "glm(formula = growth ~ temp, family = binomial, data = apple.data)\n",
       "\n",
       "Deviance Residuals: \n",
       "    Min       1Q   Median       3Q      Max  \n",
       "-1.1590  -1.0179  -0.7031   1.3457   1.7428  \n",
       "\n",
       "Coefficients:\n",
       "            Estimate Std. Error z value Pr(>|z|)  \n",
       "(Intercept) -2.49955    1.14236  -2.188   0.0287 *\n",
       "temp         0.04912    0.02825   1.739   0.0821 .\n",
       "---\n",
       "Signif. codes:  0 '***' 0.001 '**' 0.01 '*' 0.05 '.' 0.1 ' ' 1\n",
       "\n",
       "(Dispersion parameter for binomial family taken to be 1)\n",
       "\n",
       "    Null deviance: 95.072  on 72  degrees of freedom\n",
       "Residual deviance: 91.879  on 71  degrees of freedom\n",
       "AIC: 95.879\n",
       "\n",
       "Number of Fisher Scoring iterations: 4\n"
      ]
     },
     "metadata": {},
     "output_type": "display_data"
    },
    {
     "data": {
      "text/html": [
       "<style>\n",
       ".dl-inline {width: auto; margin:0; padding: 0}\n",
       ".dl-inline>dt, .dl-inline>dd {float: none; width: auto; display: inline-block}\n",
       ".dl-inline>dt::after {content: \":\\0020\"; padding-right: .5ex}\n",
       ".dl-inline>dt:not(:first-of-type) {padding-left: .5ex}\n",
       "</style><dl class=dl-inline><dt>0%</dt><dd>0</dd><dt>25%</dt><dd>0</dd><dt>50%</dt><dd>0</dd><dt>75%</dt><dd>0</dd><dt>100%</dt><dd>-0.049119701164043</dd></dl>\n"
      ],
      "text/latex": [
       "\\begin{description*}\n",
       "\\item[0\\textbackslash{}\\%] 0\n",
       "\\item[25\\textbackslash{}\\%] 0\n",
       "\\item[50\\textbackslash{}\\%] 0\n",
       "\\item[75\\textbackslash{}\\%] 0\n",
       "\\item[100\\textbackslash{}\\%] -0.049119701164043\n",
       "\\end{description*}\n"
      ],
      "text/markdown": [
       "0%\n",
       ":   025%\n",
       ":   050%\n",
       ":   075%\n",
       ":   0100%\n",
       ":   -0.049119701164043\n",
       "\n"
      ],
      "text/plain": [
       "        0%        25%        50%        75%       100% \n",
       " 0.0000000  0.0000000  0.0000000  0.0000000 -0.0491197 "
      ]
     },
     "metadata": {},
     "output_type": "display_data"
    }
   ],
   "source": [
    "temp.odds.diff = 0.049\n",
    "# your code here\n",
    "nrow(apple.data)\n",
    "#summary(apple.data)\n",
    "head(apple.data)\n",
    "glmod.apple.temp <- glm(growth ~ temp, data=apple.data, family=binomial)\n",
    "\n",
    "first_q <- quantile(apple.data$temp==35)\n",
    "third_q <- quantile(apple.data$temp==43)\n",
    "\n",
    "first_q\n",
    "third_q\n",
    "\n",
    "#summary(glmod.apple.temp)\n",
    "#define new observation\n",
    "q1_df <- data.frame(temp=c(first_q))\n",
    "q3_df <- data.frame(temp=c(third_q))\n",
    "\n",
    "summary(glmod.apple.temp)\n",
    "#use the fitted model to predict the value for the new observation\n",
    "predicted_q1 <- predict(glmod.apple.temp, newdata = q1_df)\n",
    "predicted_q3 <- predict(glmod.apple.temp, newdata = q3_df)\n",
    "\n",
    "#predicted_q1\n",
    "#predicted_q3\n",
    "#temp.odds.diff = exp(predicted_q3 - predicted_q1)\n",
    "temp.odds.diff = predicted_q3 - predicted_q1\n",
    "#temp.odds.diff \n",
    "#class(temp.odds.diff)\n",
    "# Interceptor + co-efficitn of Q1 temp\n",
    "# Interceptor + co-efficitn of Q3 temp\n",
    "\n",
    "#Q1 <- -2.49955 + (0.04912*35) #= -0.78035\n",
    "#Q3 <- -2.49955 + (0.04912*43) #= -0.38739\n",
    "\n",
    "#temp.odds.diff = Q3 - Q1 \n",
    "temp.odds.diff"
   ]
  },
  {
   "cell_type": "code",
   "execution_count": null,
   "metadata": {
    "deletable": false,
    "editable": false,
    "nbgrader": {
     "cell_type": "code",
     "checksum": "f65dd8c44c09e7e63d0ac28adc9299a7",
     "grade": true,
     "grade_id": "cell-0e18086c3f9e42d0",
     "locked": true,
     "points": 4,
     "schema_version": 3,
     "solution": false,
     "task": false
    }
   },
   "outputs": [],
   "source": [
    "# Test Cell\n",
    "# This cell has hidden test cases that will run after submission."
   ]
  },
  {
   "cell_type": "markdown",
   "metadata": {
    "deletable": false,
    "editable": false,
    "nbgrader": {
     "cell_type": "markdown",
     "checksum": "1f973d845fbb7cd5913a9c5f119c9f88",
     "grade": false,
     "grade_id": "cell-b037a14ce17528f2",
     "locked": true,
     "schema_version": 3,
     "solution": false,
     "task": false
    }
   },
   "source": [
    "### 2. (c) But there's more than that.\n",
    "\n",
    "Remember, we're assuming all of our predictors come from some distribution, meaning there is some inherent randomness in our values and calculations. A point-value is only so helpful. If we really want to understand the difference, we should calculate the range of values that the difference could potentially fall within.\n",
    "\n",
    "Calculate the $95\\%$ confidence interval for this difference. Store the lower bound in `temp.odds.lower` and the upper bound in `temp.odds.upper`.\n",
    "\n",
    "Hint: You can get the Standard Error of `temp` from your model."
   ]
  },
  {
   "cell_type": "code",
   "execution_count": 8,
   "metadata": {
    "deletable": false,
    "nbgrader": {
     "cell_type": "code",
     "checksum": "c778be9a22a8ab33322504488fb5cc46",
     "grade": false,
     "grade_id": "cell-6df5ad02ad051c85",
     "locked": false,
     "schema_version": 3,
     "solution": true,
     "task": false
    }
   },
   "outputs": [
    {
     "data": {
      "text/html": [
       "36.063097584721"
      ],
      "text/latex": [
       "36.063097584721"
      ],
      "text/markdown": [
       "36.063097584721"
      ],
      "text/plain": [
       "[1] 36.0631"
      ]
     },
     "metadata": {},
     "output_type": "display_data"
    },
    {
     "data": {
      "text/html": [
       "40.3752585796625"
      ],
      "text/latex": [
       "40.3752585796625"
      ],
      "text/markdown": [
       "40.3752585796625"
      ],
      "text/plain": [
       "[1] 40.37526"
      ]
     },
     "metadata": {},
     "output_type": "display_data"
    }
   ],
   "source": [
    "temp.odds.lower = NA\n",
    "temp.odds.upper = NA\n",
    "\n",
    "# your code here\n",
    "# Calculate the mean and standard error\n",
    "l.model <- lm(temp ~ 1, apple.data)\n",
    "\n",
    "# Calculate the confidence interval\n",
    "temp.odds <- confint(l.model, level=0.95)\n",
    "temp.odds.lower <- temp.odds[1]\n",
    "temp.odds.upper <- temp.odds[2]\n",
    "class(temp.odds)\n",
    "temp.odds\n",
    "temp.odds.lower\n",
    "temp.odds.upper"
   ]
  },
  {
   "cell_type": "code",
   "execution_count": null,
   "metadata": {
    "deletable": false,
    "editable": false,
    "nbgrader": {
     "cell_type": "code",
     "checksum": "41b83f65b3b22872ff998aced59c4565",
     "grade": true,
     "grade_id": "cell-c75bdb140f6fe1e7",
     "locked": true,
     "points": 8,
     "schema_version": 3,
     "solution": false,
     "task": false
    }
   },
   "outputs": [],
   "source": [
    "# Test Cell\n",
    "# This cell has hidden test cases that will run after submission."
   ]
  }
 ],
 "metadata": {
  "kernelspec": {
   "display_name": "R",
   "language": "R",
   "name": "ir"
  },
  "language_info": {
   "codemirror_mode": "r",
   "file_extension": ".r",
   "mimetype": "text/x-r-source",
   "name": "R",
   "pygments_lexer": "r",
   "version": "4.1.2"
  }
 },
 "nbformat": 4,
 "nbformat_minor": 4
}
