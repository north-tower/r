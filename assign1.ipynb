{
 "cells": [
  {
   "cell_type": "markdown",
   "metadata": {},
   "source": [
    "# <center>HW 2: Numpy Array and DataFrames</center>"
   ]
  },
  {
   "cell_type": "markdown",
   "metadata": {},
   "source": [
    "## Q1. Define a function to analyze a numpy array \n",
    "- **Q1.1**. Assume we have an array, named `dtm`, which contains word frequency of each document. In this array, each row represents a document, each column represents a word, and the value denotes the frequency of the word in the document. Define a function named `analyze_tf` which does the following: \n",
    "    * Take two input parameters:\n",
    "        - `dtm`: the input `dtm` with a shape `(m, n)`\n",
    "        - `binarized`: a boolean argument. The default value is `False`\n",
    "    * If `binarized = True`, set an array value to 1 if it is positive and 0 otherwise. \n",
    "    * Normalize each value, say $v_{i,j}$, as $v_{i,j}$ divided by the sum of row $i$. Save the result as `tf`. \n",
    "    * Calculate the document frequency (`df`) of each word as the number of documents containing the word\n",
    "    * Calcuate the inverse document frequency (`idf`) as $\\frac{m}{df}$, where $m$ is the total number of documents.\n",
    "    * Calculate `tf_idf` array as: $tf * (\\log(idf) + 1) $. Specifically, the `tf_idf` value of a word in a document is its `tf` value multiplied by its logged `idf` value added by 1.  \n",
    "    * Return the `df` and `tf_idf` arrays.\n",
    "    \n",
    " \n",
    "- **Q1.2**. Define a function `show_top_df_words` as follows:\n",
    "    - Take `df` and `word_dict`, a dictionary which maps an index to a word, as the inputs\n",
    "    - Print out the indexes of words with top 3 largest `df` values\n",
    "    - print out the words corresponding to these indexes.\n",
    "    \n",
    "    \n",
    "- **Q1.3**. Define a function `show_top_tf_idf_words` as follows:\n",
    "    - Take `tf_idf`, a row index `row_id`, and `word_dict`, a dictionary which maps an index to a word, as the inputs\n",
    "    - Print out the indexes of the words with top 5 largest `tf_idf` values for the `row_id` row.\n",
    "    - Print out the words corresponding to these indexes.\n",
    "          \n",
    "      \n",
    "- **Note**\n",
    "     - For all the steps, `do not use any loop`. Just use array functions and broadcasting for high performance computation.\n",
    "     - Test your function with `binarized = True or False`. Make sure it works in both scenarios\n",
    "     - For your testing, a `dtm` array and a dictionary which maps each column index to a word are provided. See below to load the test files.\n"
   ]
  },
  {
   "cell_type": "code",
   "execution_count": 14,
   "metadata": {
    "ExecuteTime": {
     "end_time": "2021-09-21T04:21:00.972533Z",
     "start_time": "2021-09-21T04:20:59.538535Z"
    }
   },
   "outputs": [],
   "source": [
    "import numpy as np\n",
    "import pandas as pd\n",
    "import pickle\n",
    "from matplotlib import pyplot as plt\n",
    "\n",
    "\n",
    "from IPython.core.interactiveshell import InteractiveShell\n",
    "InteractiveShell.ast_node_interactivity = \"all\"\n",
    "\n",
    "np.set_printoptions(precision=4)\n",
    "pd.set_option('precision', 4)"
   ]
  },
  {
   "cell_type": "code",
   "execution_count": 40,
   "metadata": {
    "ExecuteTime": {
     "end_time": "2021-09-21T04:21:42.783687Z",
     "start_time": "2021-09-21T04:21:42.775680Z"
    }
   },
   "outputs": [],
   "source": [
    "def analyze_tf(arr, binarized=False):\n",
    "\n",
    "    df = None\n",
    "    tf_idf = None\n",
    "    \n",
    "    if (binarized==True):\n",
    "        arr[6]=1\n",
    "  \n",
    "        \n",
    "        \n",
    "    a1 = np.sum(arr, axis=1) #for normalizing friquency selects each elements\n",
    "    idx = np.where(a1 == max(a1))[0] # index with the longest document\n",
    "\n",
    "\n",
    "        \n",
    "    tf = np.divide(arr.T,a1) #decides word frequency by length of the document and saves result in tf\n",
    "\n",
    "    a2 = np.where(tf.T>0,1,0)\n",
    "    df = np.sum(a2,axis=0) #calculates the document frequency of each word in df\n",
    "    \n",
    "    idf = len(arr)/df\n",
    "    \n",
    "    \n",
    "    tf_idf = tf.T/df #tf/df\n",
    "    \n",
    "    return df, tf_idf\n",
    "\n",
    "\n",
    "def show_top_df_words(df, word_dict):\n",
    "    \n",
    "    df_max = np.argsort(df)\n",
    "\n",
    "    print(\"Indexes of words with the top 3 largest df values\", df_max[:-4:-1])\n",
    "    \n",
    "  \n",
    "    \n",
    "def show_top_tf_idf_words(tf_idf, row_id, word_dict):\n",
    "\n",
    "    f = np.argsort(tf_idf) #it will count the indexs according to word which was appered most of the time in ascending order\n",
    "\n",
    "    print(\"For the longest document, here are the indices of words with top 5 largest values:\", f[idx,-5:][0])\n",
    "        # prints only indexes of words with top 5 largest values in the tf_idf array\n",
    "        "
   ]
  },
  {
   "cell_type": "code",
   "execution_count": 38,
   "metadata": {
    "ExecuteTime": {
     "end_time": "2021-09-21T04:21:44.297450Z",
     "start_time": "2021-09-21T04:21:44.287211Z"
    }
   },
   "outputs": [
    {
     "name": "stdout",
     "output_type": "stream",
     "text": [
      "(200, 532)\n",
      "words at index 50 is: asked \n"
     ]
    }
   ],
   "source": [
    "# array for testing\n",
    "dtm = np.load(\"dtm.npy\")\n",
    "print(dtm.shape)\n",
    "\n",
    "# a mapping from column index to words\n",
    "word_dict = pickle.load(open(\"words.dict\", 'rb'))\n",
    "\n",
    "# pick any index and show the word at this index\n",
    "idx = 50\n",
    "print(\"words at index {0} is: {1} \".format(idx, word_dict[idx]))"
   ]
  },
  {
   "cell_type": "code",
   "execution_count": 41,
   "metadata": {
    "ExecuteTime": {
     "end_time": "2021-09-21T04:21:49.002391Z",
     "start_time": "2021-09-21T04:21:48.991947Z"
    }
   },
   "outputs": [
    {
     "name": "stdout",
     "output_type": "stream",
     "text": [
      "\n",
      " testing binarize = False\n",
      "Indexes of words with the top 3 largest df values [430 178 266]\n",
      "For the longest document, here are the indices of words with top 5 largest values: 514\n",
      "\n",
      " testing binarize = True\n",
      "Indexes of words with the top 3 largest df values [430 178 266]\n",
      "For the longest document, here are the indices of words with top 5 largest values: 514\n"
     ]
    },
    {
     "name": "stderr",
     "output_type": "stream",
     "text": [
      "C:\\Users\\LIGHT_~1\\AppData\\Local\\Temp/ipykernel_12612/3918004297.py:17: RuntimeWarning: invalid value encountered in true_divide\n",
      "  tf = np.divide(arr.T,a1) #decides word frequency by length of the document and saves result in tf\n"
     ]
    }
   ],
   "source": [
    "# Testing:\n",
    "\n",
    "# binarize = False\n",
    "print(\"\\n testing binarize = False\")\n",
    "df, tf_idf = analyze_tf(dtm, binarized=False)\n",
    "show_top_df_words(df, word_dict)\n",
    "\n",
    "row_id = 1\n",
    "show_top_tf_idf_words(tf_idf, row_id, word_dict)\n",
    "\n",
    "print(\"\\n testing binarize = True\")\n",
    "df, tf_idf = analyze_tf(dtm, binarized=True)\n",
    "show_top_df_words(df, word_dict)\n",
    "\n",
    "row_id = 1\n",
    "show_top_tf_idf_words(tf_idf, row_id, word_dict)"
   ]
  },
  {
   "cell_type": "markdown",
   "metadata": {},
   "source": [
    "## Q2. Define a function to analyze Pandas DataFrame \n",
    "\n",
    "Suppose you are classifying the sentiment of documents as positive or negative. Your machine learning model returns a probability of being positive for each document, denoted as `pred`. You also know the ground truth label of each document (0: negative and 1: positive), denoted as `truth`. Both `pred` and `truth` are numpy arrays.\n",
    "\n",
    "- **Q2.1**. Write a function `analyze_performance` to do the following:\n",
    "    - Take `pred`, `truth`, and a threshod, say `thresh` as inputs\n",
    "    - Create a DataFrame with `pred` and `truth` as two columns\n",
    "    - Create a new column `binary_pred` which sets prediction to 1 if `pred > thresh`, and 0 otherwise\n",
    "    - Calculate a confusion table (pivot table or cross tabulation) as `[[TN, FP],[FN,TP]]`, where:\n",
    "        * True Positives (TP): the number of correct positive predictions\n",
    "        * False Positives (FP): the number of postive predictives which actually are negatives\n",
    "        * True Negatives (TN): the number of correct negative predictions\n",
    "        * False Negatives (FN): the number of negative predictives which actually are positives\n",
    "    - Calculate precision as $TP/(TP+FP)$ and recall as $TP/(TP+FN)$ for the positive class.\n",
    "    - return the confusion table, precision, and recall\n",
    "    \n",
    "    \n",
    "- **Q2.2**. Write a function `show_impact_of_threshold` as follows:\n",
    "    - Take `pred` and `truth` as inputs\n",
    "    - Call `analyze_performance` funtion by varying `thresh` from 0.05 to 0.95 with an increase of 0.05 each time. \n",
    "    - Plot a line chart to see how precision and recall change by `thresh`.\n",
    "    - This function has no return. Just print out two lines in a plot.\n",
    "    \n",
    "- Hint: `don't use any loop`. Just use functions from numpy or Pandas packages"
   ]
  },
  {
   "cell_type": "code",
   "execution_count": 53,
   "metadata": {
    "ExecuteTime": {
     "end_time": "2021-09-21T04:21:53.241882Z",
     "start_time": "2021-09-21T04:21:53.232879Z"
    }
   },
   "outputs": [],
   "source": [
    "def analyze_performance(pred, truth, thresh):\n",
    "\n",
    "    confusion = None\n",
    "    prec = None\n",
    "    rec = None\n",
    "    \n",
    "    data = {'Pred': [pred], 'Truth': [truth]}  \n",
    "    \n",
    "    df = pd.DataFrame(data)  \n",
    "    \n",
    "    if(pred.a;()>thresh):\n",
    "        binary_pred=1\n",
    "    else:\n",
    "        binary_pred=0\n",
    "    \n",
    "    df['binary_pred'] = binary_pred\n",
    "    \n",
    "    confusion = pd.crosstab(truth, pred,rownames=['Actual'], colnames=['binary_pred'])\n",
    "    TP=confusion[2,2]\n",
    "    FP=confusion[1,2]\n",
    "    prec = TP/(TP+FPF)\n",
    "\n",
    "    return confusion, prec, rec\n",
    "\n",
    "\n",
    "\n"
   ]
  },
  {
   "cell_type": "code",
   "execution_count": 45,
   "metadata": {
    "ExecuteTime": {
     "end_time": "2021-09-21T04:21:53.832877Z",
     "start_time": "2021-09-21T04:21:53.823878Z"
    }
   },
   "outputs": [],
   "source": [
    "# Testing arrays\n",
    "pred = np.array([0.28997326, 0.10166073, 0.10759583, 0.0694934, 0.6767239,\n",
    "                0.01446897, 0.15268748, 0.15570522, 0.12159665, 0.22593857,\n",
    "                0.98162019, 0.47418329, 0.09376987, 0.80440782, 0.88361167,\n",
    "                0.21579844, 0.72343069, 0.06605903, 0.15447797, 0.10967575,\n",
    "                0.93020135, 0.06570391, 0.05283854, 0.09668829, 0.05974545,\n",
    "                0.04874688, 0.07562255, 0.11103822, 0.71674525, 0.08507381,\n",
    "                0.630128, 0.16447478, 0.16914903, 0.1715767, 0.08040751,\n",
    "                0.7001173, 0.04428363, 0.19469664, 0.12247959, 0.14000294,\n",
    "                0.02411263, 0.26276603, 0.11377073, 0.07055441, 0.2021157,\n",
    "                0.11636899, 0.90348488, 0.10191679, 0.88744523, 0.18938904])\n",
    "\n",
    "truth = np.array([1, 0, 0, 0, 1, 0, 0, 0, 0, 0, 1, 1, 0, 1, 1, 0, 1, 0, 0, 0, 1, 0,\n",
    "                  0, 0, 0, 0, 0, 0, 1, 0, 1, 0, 0, 0, 0, 0, 0, 0, 0, 0, 0, 0, 0, 0,\n",
    "                  0, 0, 1, 0, 1, 0])"
   ]
  },
  {
   "cell_type": "code",
   "execution_count": 54,
   "metadata": {
    "ExecuteTime": {
     "end_time": "2021-09-21T04:21:56.369395Z",
     "start_time": "2021-09-21T04:21:54.881396Z"
    }
   },
   "outputs": [
    {
     "ename": "KeyError",
     "evalue": "(2, 1)",
     "output_type": "error",
     "traceback": [
      "\u001b[1;31m---------------------------------------------------------------------------\u001b[0m",
      "\u001b[1;31mTypeError\u001b[0m                                 Traceback (most recent call last)",
      "\u001b[1;32mc:\\users\\light_house\\appdata\\local\\programs\\python\\python39\\lib\\site-packages\\pandas\\_libs\\index.pyx\u001b[0m in \u001b[0;36mpandas._libs.index.IndexEngine.get_loc\u001b[1;34m()\u001b[0m\n",
      "\u001b[1;32mpandas\\_libs\\hashtable_class_helper.pxi\u001b[0m in \u001b[0;36mpandas._libs.hashtable.Float64HashTable.get_item\u001b[1;34m()\u001b[0m\n",
      "\u001b[1;31mTypeError\u001b[0m: must be real number, not tuple",
      "\nDuring handling of the above exception, another exception occurred:\n",
      "\u001b[1;31mKeyError\u001b[0m                                  Traceback (most recent call last)",
      "\u001b[1;32mc:\\users\\light_house\\appdata\\local\\programs\\python\\python39\\lib\\site-packages\\pandas\\core\\indexes\\base.py\u001b[0m in \u001b[0;36mget_loc\u001b[1;34m(self, key, method, tolerance)\u001b[0m\n\u001b[0;32m   3360\u001b[0m             \u001b[1;32mtry\u001b[0m\u001b[1;33m:\u001b[0m\u001b[1;33m\u001b[0m\u001b[1;33m\u001b[0m\u001b[0m\n\u001b[1;32m-> 3361\u001b[1;33m                 \u001b[1;32mreturn\u001b[0m \u001b[0mself\u001b[0m\u001b[1;33m.\u001b[0m\u001b[0m_engine\u001b[0m\u001b[1;33m.\u001b[0m\u001b[0mget_loc\u001b[0m\u001b[1;33m(\u001b[0m\u001b[0mcasted_key\u001b[0m\u001b[1;33m)\u001b[0m\u001b[1;33m\u001b[0m\u001b[1;33m\u001b[0m\u001b[0m\n\u001b[0m\u001b[0;32m   3362\u001b[0m             \u001b[1;32mexcept\u001b[0m \u001b[0mKeyError\u001b[0m \u001b[1;32mas\u001b[0m \u001b[0merr\u001b[0m\u001b[1;33m:\u001b[0m\u001b[1;33m\u001b[0m\u001b[1;33m\u001b[0m\u001b[0m\n",
      "\u001b[1;32mc:\\users\\light_house\\appdata\\local\\programs\\python\\python39\\lib\\site-packages\\pandas\\_libs\\index.pyx\u001b[0m in \u001b[0;36mpandas._libs.index.IndexEngine.get_loc\u001b[1;34m()\u001b[0m\n",
      "\u001b[1;32mc:\\users\\light_house\\appdata\\local\\programs\\python\\python39\\lib\\site-packages\\pandas\\_libs\\index.pyx\u001b[0m in \u001b[0;36mpandas._libs.index.IndexEngine.get_loc\u001b[1;34m()\u001b[0m\n",
      "\u001b[1;31mKeyError\u001b[0m: (2, 1)",
      "\nThe above exception was the direct cause of the following exception:\n",
      "\u001b[1;31mKeyError\u001b[0m                                  Traceback (most recent call last)",
      "\u001b[1;32mC:\\Users\\LIGHT_~1\\AppData\\Local\\Temp/ipykernel_12612/755552645.py\u001b[0m in \u001b[0;36m<module>\u001b[1;34m\u001b[0m\n\u001b[1;32m----> 1\u001b[1;33m \u001b[0mconf\u001b[0m\u001b[1;33m,\u001b[0m \u001b[0mprec\u001b[0m\u001b[1;33m,\u001b[0m \u001b[0mrec\u001b[0m \u001b[1;33m=\u001b[0m \u001b[0manalyze_performance\u001b[0m\u001b[1;33m(\u001b[0m\u001b[0mpred\u001b[0m\u001b[1;33m,\u001b[0m \u001b[0mtruth\u001b[0m\u001b[1;33m,\u001b[0m \u001b[1;36m0.5\u001b[0m\u001b[1;33m)\u001b[0m\u001b[1;33m\u001b[0m\u001b[1;33m\u001b[0m\u001b[0m\n\u001b[0m\u001b[0;32m      2\u001b[0m \u001b[1;33m\u001b[0m\u001b[0m\n\u001b[0;32m      3\u001b[0m \u001b[0mconf\u001b[0m\u001b[1;33m\u001b[0m\u001b[1;33m\u001b[0m\u001b[0m\n\u001b[0;32m      4\u001b[0m \u001b[1;33m\u001b[0m\u001b[0m\n\u001b[0;32m      5\u001b[0m \u001b[0mprint\u001b[0m\u001b[1;33m(\u001b[0m\u001b[1;34m\"precision: {0: .4f}, recall: {1: .4f}\"\u001b[0m\u001b[1;33m.\u001b[0m\u001b[0mformat\u001b[0m\u001b[1;33m(\u001b[0m\u001b[0mprec\u001b[0m\u001b[1;33m,\u001b[0m \u001b[0mrec\u001b[0m\u001b[1;33m)\u001b[0m\u001b[1;33m)\u001b[0m\u001b[1;33m\u001b[0m\u001b[1;33m\u001b[0m\u001b[0m\n",
      "\u001b[1;32mC:\\Users\\LIGHT_~1\\AppData\\Local\\Temp/ipykernel_12612/1545370837.py\u001b[0m in \u001b[0;36manalyze_performance\u001b[1;34m(pred, truth, thresh)\u001b[0m\n\u001b[0;32m     17\u001b[0m \u001b[1;33m\u001b[0m\u001b[0m\n\u001b[0;32m     18\u001b[0m     \u001b[0mconfusion\u001b[0m \u001b[1;33m=\u001b[0m \u001b[0mpd\u001b[0m\u001b[1;33m.\u001b[0m\u001b[0mcrosstab\u001b[0m\u001b[1;33m(\u001b[0m\u001b[0mtruth\u001b[0m\u001b[1;33m,\u001b[0m \u001b[0mpred\u001b[0m\u001b[1;33m,\u001b[0m\u001b[0mrownames\u001b[0m\u001b[1;33m=\u001b[0m\u001b[1;33m[\u001b[0m\u001b[1;34m'Actual'\u001b[0m\u001b[1;33m]\u001b[0m\u001b[1;33m,\u001b[0m \u001b[0mcolnames\u001b[0m\u001b[1;33m=\u001b[0m\u001b[1;33m[\u001b[0m\u001b[1;34m'binary_pred'\u001b[0m\u001b[1;33m]\u001b[0m\u001b[1;33m)\u001b[0m\u001b[1;33m\u001b[0m\u001b[1;33m\u001b[0m\u001b[0m\n\u001b[1;32m---> 19\u001b[1;33m     \u001b[0mTP\u001b[0m\u001b[1;33m=\u001b[0m\u001b[0mconfusion\u001b[0m\u001b[1;33m[\u001b[0m\u001b[1;36m2\u001b[0m\u001b[1;33m,\u001b[0m\u001b[1;36m1\u001b[0m\u001b[1;33m]\u001b[0m\u001b[1;33m\u001b[0m\u001b[1;33m\u001b[0m\u001b[0m\n\u001b[0m\u001b[0;32m     20\u001b[0m     \u001b[0mFP\u001b[0m\u001b[1;33m=\u001b[0m\u001b[0mconfusion\u001b[0m\u001b[1;33m[\u001b[0m\u001b[1;36m1\u001b[0m\u001b[1;33m,\u001b[0m\u001b[1;36m2\u001b[0m\u001b[1;33m]\u001b[0m\u001b[1;33m\u001b[0m\u001b[1;33m\u001b[0m\u001b[0m\n\u001b[0;32m     21\u001b[0m     \u001b[0mprec\u001b[0m \u001b[1;33m=\u001b[0m \u001b[0mTP\u001b[0m\u001b[1;33m/\u001b[0m\u001b[1;33m(\u001b[0m\u001b[0mTP\u001b[0m\u001b[1;33m+\u001b[0m\u001b[0mFPF\u001b[0m\u001b[1;33m)\u001b[0m\u001b[1;33m\u001b[0m\u001b[1;33m\u001b[0m\u001b[0m\n",
      "\u001b[1;32mc:\\users\\light_house\\appdata\\local\\programs\\python\\python39\\lib\\site-packages\\pandas\\core\\frame.py\u001b[0m in \u001b[0;36m__getitem__\u001b[1;34m(self, key)\u001b[0m\n\u001b[0;32m   3456\u001b[0m             \u001b[1;32mif\u001b[0m \u001b[0mself\u001b[0m\u001b[1;33m.\u001b[0m\u001b[0mcolumns\u001b[0m\u001b[1;33m.\u001b[0m\u001b[0mnlevels\u001b[0m \u001b[1;33m>\u001b[0m \u001b[1;36m1\u001b[0m\u001b[1;33m:\u001b[0m\u001b[1;33m\u001b[0m\u001b[1;33m\u001b[0m\u001b[0m\n\u001b[0;32m   3457\u001b[0m                 \u001b[1;32mreturn\u001b[0m \u001b[0mself\u001b[0m\u001b[1;33m.\u001b[0m\u001b[0m_getitem_multilevel\u001b[0m\u001b[1;33m(\u001b[0m\u001b[0mkey\u001b[0m\u001b[1;33m)\u001b[0m\u001b[1;33m\u001b[0m\u001b[1;33m\u001b[0m\u001b[0m\n\u001b[1;32m-> 3458\u001b[1;33m             \u001b[0mindexer\u001b[0m \u001b[1;33m=\u001b[0m \u001b[0mself\u001b[0m\u001b[1;33m.\u001b[0m\u001b[0mcolumns\u001b[0m\u001b[1;33m.\u001b[0m\u001b[0mget_loc\u001b[0m\u001b[1;33m(\u001b[0m\u001b[0mkey\u001b[0m\u001b[1;33m)\u001b[0m\u001b[1;33m\u001b[0m\u001b[1;33m\u001b[0m\u001b[0m\n\u001b[0m\u001b[0;32m   3459\u001b[0m             \u001b[1;32mif\u001b[0m \u001b[0mis_integer\u001b[0m\u001b[1;33m(\u001b[0m\u001b[0mindexer\u001b[0m\u001b[1;33m)\u001b[0m\u001b[1;33m:\u001b[0m\u001b[1;33m\u001b[0m\u001b[1;33m\u001b[0m\u001b[0m\n\u001b[0;32m   3460\u001b[0m                 \u001b[0mindexer\u001b[0m \u001b[1;33m=\u001b[0m \u001b[1;33m[\u001b[0m\u001b[0mindexer\u001b[0m\u001b[1;33m]\u001b[0m\u001b[1;33m\u001b[0m\u001b[1;33m\u001b[0m\u001b[0m\n",
      "\u001b[1;32mc:\\users\\light_house\\appdata\\local\\programs\\python\\python39\\lib\\site-packages\\pandas\\core\\indexes\\base.py\u001b[0m in \u001b[0;36mget_loc\u001b[1;34m(self, key, method, tolerance)\u001b[0m\n\u001b[0;32m   3361\u001b[0m                 \u001b[1;32mreturn\u001b[0m \u001b[0mself\u001b[0m\u001b[1;33m.\u001b[0m\u001b[0m_engine\u001b[0m\u001b[1;33m.\u001b[0m\u001b[0mget_loc\u001b[0m\u001b[1;33m(\u001b[0m\u001b[0mcasted_key\u001b[0m\u001b[1;33m)\u001b[0m\u001b[1;33m\u001b[0m\u001b[1;33m\u001b[0m\u001b[0m\n\u001b[0;32m   3362\u001b[0m             \u001b[1;32mexcept\u001b[0m \u001b[0mKeyError\u001b[0m \u001b[1;32mas\u001b[0m \u001b[0merr\u001b[0m\u001b[1;33m:\u001b[0m\u001b[1;33m\u001b[0m\u001b[1;33m\u001b[0m\u001b[0m\n\u001b[1;32m-> 3363\u001b[1;33m                 \u001b[1;32mraise\u001b[0m \u001b[0mKeyError\u001b[0m\u001b[1;33m(\u001b[0m\u001b[0mkey\u001b[0m\u001b[1;33m)\u001b[0m \u001b[1;32mfrom\u001b[0m \u001b[0merr\u001b[0m\u001b[1;33m\u001b[0m\u001b[1;33m\u001b[0m\u001b[0m\n\u001b[0m\u001b[0;32m   3364\u001b[0m \u001b[1;33m\u001b[0m\u001b[0m\n\u001b[0;32m   3365\u001b[0m         \u001b[1;32mif\u001b[0m \u001b[0mis_scalar\u001b[0m\u001b[1;33m(\u001b[0m\u001b[0mkey\u001b[0m\u001b[1;33m)\u001b[0m \u001b[1;32mand\u001b[0m \u001b[0misna\u001b[0m\u001b[1;33m(\u001b[0m\u001b[0mkey\u001b[0m\u001b[1;33m)\u001b[0m \u001b[1;32mand\u001b[0m \u001b[1;32mnot\u001b[0m \u001b[0mself\u001b[0m\u001b[1;33m.\u001b[0m\u001b[0mhasnans\u001b[0m\u001b[1;33m:\u001b[0m\u001b[1;33m\u001b[0m\u001b[1;33m\u001b[0m\u001b[0m\n",
      "\u001b[1;31mKeyError\u001b[0m: (2, 1)"
     ]
    }
   ],
   "source": [
    "conf, prec, rec = analyze_performance(pred, truth, 0.5)\n",
    "\n",
    "conf\n",
    "\n",
    "print(\"precision: {0: .4f}, recall: {1: .4f}\".format(prec, rec))\n",
    "\n",
    "show_impact_of_threshold(pred, truth)"
   ]
  },
  {
   "cell_type": "markdown",
   "metadata": {},
   "source": [
    "## Q3 (Bonus). Find Coocurring Words\n",
    "\n",
    "If two words frequently cooccur in a document (they don't have to be located next to each other), they may be semantically connected. For example, you may see words like \"finance\" and \"stock\" frequency cooccur in financial documents. \n",
    "\n",
    "Define a function `find_cooccur_words(dtm, word_dict, topN)` to:\n",
    "- find the `topN` pairs of cooccuring words in a given `dtm` (defined in Q1)\n",
    "- print out the word pairs using the `word_dict` dictionary. \n",
    "\n",
    "Hints:\n",
    "- You can select coocurring words using metrics measuring words dependencies, such as Jaccard index, Pointwise Mutual Information, etc. Do your research to find these metrics.\n",
    "- There is no unique solution to this question. You'll receive credits as long as your solution makes sense. You can write a few lines to explain your solution.\n",
    "- Again, `don't use any loop` to find the top N word pairs. But you can use loop when you print out the found word pairs."
   ]
  },
  {
   "cell_type": "code",
   "execution_count": 18,
   "metadata": {
    "ExecuteTime": {
     "end_time": "2021-09-21T04:21:56.393396Z",
     "start_time": "2021-09-21T04:21:56.372397Z"
    }
   },
   "outputs": [],
   "source": [
    "def find_cooccur_words(dtm, word_dict, topN=10):\n",
    "    \n",
    "    # add your code here\n",
    "    "
   ]
  },
  {
   "cell_type": "code",
   "execution_count": null,
   "metadata": {},
   "outputs": [],
   "source": [
    "dtm = np.load(\"dtm.npy\")\n",
    "word_dict = pickle.load(open(\"words.dict\", 'rb'))\n",
    "\n",
    "# There is no unique solution. \n",
    "# So reference solution is not provided\n",
    "\n",
    "find_cooccur_words(dtm, word_dict, topN=10)"
   ]
  },
  {
   "cell_type": "markdown",
   "metadata": {},
   "source": [
    "## Submission Guideline ##\n",
    "- Following the solution template provided below. Use __main__ block to test your functions and class\n",
    "- Save your code into a python file (e.g. assign1.py) that can be run in a `python 3` environment. In Jupyter Notebook, you can export notebook as .py file in menu \"File->Download as\".\n",
    "- Make sure you have all import statements. To test your code, open a command window in your current python working folder, type \"python assign1.py\" to see if it can run successfully with the expected result printed."
   ]
  },
  {
   "cell_type": "code",
   "execution_count": 17,
   "metadata": {
    "ExecuteTime": {
     "end_time": "2021-09-21T04:21:01.131534Z",
     "start_time": "2021-09-21T04:21:01.131534Z"
    }
   },
   "outputs": [
    {
     "name": "stdout",
     "output_type": "stream",
     "text": [
      "==== Q1 ========\n",
      "testing binarize = False\n",
      "top 3 df indexes:  [430 178 266]\n",
      "top 3 df words:  ['subject', 'from', 'lines']\n",
      "top 5 tf_idf indexes:  [238 444 210 364 326]\n",
      "top 5  tf_idf words:  ['is', 'the', 'help', 'problem', 'of']\n",
      "\n",
      "\n",
      "testing binarize = True\n",
      "top 3 df indexes:  [430 178 266]\n",
      "top 3 df words:  ['subject', 'from', 'lines']\n",
      "top 5 tf_idf indexes:  [ 42 419 220 216 213]\n",
      "top 5  tf_idf words:  ['appreciated', 'somewhere', 'human', 'hope', 'hi']\n",
      "\n",
      "\n",
      "==== Q2 ========\n",
      "binary_pred   0   1\n",
      "truth              \n",
      "0            37   1\n",
      "1             2  10\n",
      "precision:  0.9091, recall:  0.8333\n"
     ]
    },
    {
     "data": {
      "image/png": "[encoded data removed]",
      "text/plain": [
       "<Figure size 432x288 with 1 Axes>"
      ]
     },
     "metadata": {
      "needs_background": "light"
     },
     "output_type": "display_data"
    }
   ],
   "source": [
    "# best practice to test your class\n",
    "# if your script is exported as a module,\n",
    "# the following part is ignored\n",
    "# this is equivalent to main() in Java\n",
    "\n",
    "if __name__ == \"__main__\":  \n",
    "    \n",
    "    # Test Question 1\n",
    "    \n",
    "    print(\"==== Q1 ========\")\n",
    "    # array for testing\n",
    "    dtm = np.load(\"dtm.npy\")\n",
    "\n",
    "    # a mapping from column index to words\n",
    "    word_dict = pickle.load(open(\"words.dict\", 'rb'))\n",
    "    \n",
    "    print(\"testing binarize = False\")\n",
    "    df, tf_idf = analyze_tf(dtm, binarized=False)\n",
    "    show_top_df_words(df, word_dict)\n",
    "\n",
    "    row_id = 1\n",
    "    show_top_tf_idf_words(tf_idf, row_id, word_dict)\n",
    "\n",
    "    print(\"\\n\")\n",
    "    print(\"testing binarize = True\")\n",
    "    df, tf_idf = analyze_tf(dtm, binarized=True)\n",
    "    show_top_df_words(df, word_dict)\n",
    "\n",
    "    row_id = 1\n",
    "    show_top_tf_idf_words(tf_idf, row_id, word_dict)\n",
    "    \n",
    "    print(\"\\n\")\n",
    "    \n",
    "    \n",
    "    # Test Question 2\n",
    "    print(\"==== Q2 ========\")\n",
    "    # Testing arrays\n",
    "    pred = np.array([0.28997326, 0.10166073, 0.10759583, 0.0694934, 0.6767239,\n",
    "                0.01446897, 0.15268748, 0.15570522, 0.12159665, 0.22593857,\n",
    "                0.98162019, 0.47418329, 0.09376987, 0.80440782, 0.88361167,\n",
    "                0.21579844, 0.72343069, 0.06605903, 0.15447797, 0.10967575,\n",
    "                0.93020135, 0.06570391, 0.05283854, 0.09668829, 0.05974545,\n",
    "                0.04874688, 0.07562255, 0.11103822, 0.71674525, 0.08507381,\n",
    "                0.630128, 0.16447478, 0.16914903, 0.1715767, 0.08040751,\n",
    "                0.7001173, 0.04428363, 0.19469664, 0.12247959, 0.14000294,\n",
    "                0.02411263, 0.26276603, 0.11377073, 0.07055441, 0.2021157,\n",
    "                0.11636899, 0.90348488, 0.10191679, 0.88744523, 0.18938904])\n",
    "\n",
    "    truth = np.array([1, 0, 0, 0, 1, 0, 0, 0, 0, 0, 1, 1, 0, 1, 1, 0, 1, 0, 0, 0, 1, 0,\n",
    "                  0, 0, 0, 0, 0, 0, 1, 0, 1, 0, 0, 0, 0, 0, 0, 0, 0, 0, 0, 0, 0, 0,\n",
    "                  0, 0, 1, 0, 1, 0])\n",
    "    \n",
    "    conf, prec, rec = analyze_performance(pred, truth, 0.5)\n",
    "\n",
    "    print(conf)\n",
    "    print(\"precision: {0: .4f}, recall: {1: .4f}\".format(prec, rec))\n",
    "\n",
    "    show_impact_of_threshold(pred, truth)\n",
    "    \n",
    "    \n",
    "    #3 Test Question 3\n",
    "    "
   ]
  },
  {
   "cell_type": "code",
   "execution_count": null,
   "metadata": {},
   "outputs": [],
   "source": []
  }
 ],
 "metadata": {
  "kernelspec": {
   "display_name": "Python 3 (ipykernel)",
   "language": "python",
   "name": "python3"
  },
  "language_info": {
   "codemirror_mode": {
    "name": "ipython",
    "version": 3
   },
   "file_extension": ".py",
   "mimetype": "text/x-python",
   "name": "python",
   "nbconvert_exporter": "python",
   "pygments_lexer": "ipython3",
   "version": "3.10.2"
  },
  "latex_envs": {
   "LaTeX_envs_menu_present": true,
   "autoclose": false,
   "autocomplete": true,
   "bibliofile": "biblio.bib",
   "cite_by": "apalike",
   "current_citInitial": 1,
   "eqLabelWithNumbers": true,
   "eqNumInitial": 1,
   "hotkeys": {
    "equation": "Ctrl-E",
    "itemize": "Ctrl-I"
   },
   "labels_anchors": false,
   "latex_user_defs": false,
   "report_style_numbering": false,
   "user_envs_cfg": false
  },
  "toc": {
   "base_numbering": 1,
   "nav_menu": {},
   "number_sections": true,
   "sideBar": true,
   "skip_h1_title": false,
   "title_cell": "Table of Contents",
   "title_sidebar": "Contents",
   "toc_cell": true,
   "toc_position": {},
   "toc_section_display": true,
   "toc_window_display": false
  }
 },
 "nbformat": 4,
 "nbformat_minor": 2
}
