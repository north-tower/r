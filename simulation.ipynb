{
 "cells": [
  {
   "cell_type": "markdown",
   "id": "09dd4c4c-44f8-4813-bbf1-dc47d16fc3bd",
   "metadata": {},
   "source": [
    "Single Server"
   ]
  },
  {
   "cell_type": "code",
   "execution_count": 23,
   "id": "265c594d-aba4-4284-8c2d-77100d4e4136",
   "metadata": {},
   "outputs": [
    {
     "name": "stdout",
     "output_type": "stream",
     "text": [
      " Customer  Arrival Time  Service Time  Exit Time  Queueing Time  Server Idle Time  Total Time in System\n",
      "        1      2.720189      1.928354   4.648543       0.000000          0.000000              1.928354\n",
      "        2      4.143496      0.308871   4.957414       0.505047          0.000000              0.813918\n",
      "        3      6.343566      2.029554   8.373120       0.000000          1.386153              2.029554\n",
      "        4     13.434476      1.924351  15.358827       0.000000          5.061355              1.924351\n",
      "        5     13.506966      0.570584  15.929411       1.851861          0.000000              2.422445\n",
      "        6     14.123868      1.706697  17.636108       1.805543          0.000000              3.512240\n",
      "        7     14.359340      1.525010  19.161118       3.276768          0.000000              4.801778\n",
      "        8     14.567247      2.870167  22.031285       4.593871          0.000000              7.464038\n",
      "        9     24.238262      3.024344  27.262606       0.000000          2.206977              3.024344\n",
      "       10     30.319465      0.139087  30.458552       0.000000          3.056859              0.139087\n"
     ]
    }
   ],
   "source": [
    "import numpy as np\n",
    "import pandas as pd\n",
    "\n",
    "def simulate_service(num_customers, mean_arrival_time, mean_service_time):\n",
    "    # Generate arrival times and service times from exponential distributions\n",
    "    arrival_times = np.cumsum(np.random.exponential(mean_arrival_time, num_customers))\n",
    "    service_times = np.random.exponential(mean_service_time, num_customers)\n",
    "\n",
    "    # Initialize arrays to store exit times, queueing times, and server idle times\n",
    "    exit_times = np.zeros(num_customers)\n",
    "    queueing_times = np.zeros(num_customers)\n",
    "    server_idle_times = np.zeros(num_customers)\n",
    "\n",
    "    # Simulate the service mechanism\n",
    "    for i in range(num_customers):\n",
    "        # Calculate queueing time (if any)\n",
    "        if i > 0 and exit_times[i - 1] > arrival_times[i]:\n",
    "            queueing_times[i] = exit_times[i - 1] - arrival_times[i]\n",
    "\n",
    "        # Calculate exit time\n",
    "        exit_times[i] = arrival_times[i] + service_times[i] + queueing_times[i]\n",
    "\n",
    "        # Calculate server idle time (if any)\n",
    "        if i > 0 and exit_times[i - 1] < arrival_times[i]:\n",
    "            server_idle_times[i] = arrival_times[i] - exit_times[i - 1]\n",
    "\n",
    "    total_time_in_system = service_times + queueing_times\n",
    "\n",
    "    return pd.DataFrame({\n",
    "        'Customer': range(1, num_customers + 1),\n",
    "        'Arrival Time': arrival_times,\n",
    "        'Service Time': service_times,\n",
    "        'Exit Time': exit_times,\n",
    "        'Queueing Time': queueing_times,\n",
    "        'Server Idle Time': server_idle_times,\n",
    "        'Total Time in System': total_time_in_system\n",
    "    })\n",
    "\n",
    "# Example usage\n",
    "num_customers = 10\n",
    "mean_arrival_time = 5.0  # Mean arrival time for exponential distribution\n",
    "mean_service_time = 3.0  # Mean service time for exponential distribution\n",
    "\n",
    "simulation_result = simulate_service(num_customers, mean_arrival_time, mean_service_time)\n",
    "\n",
    "print(simulation_result.to_string(index=False))\n"
   ]
  },
  {
   "cell_type": "raw",
   "id": "c83c3442-bda0-47bc-88c7-0c28b0f15c69",
   "metadata": {},
   "source": [
    "In this example, the simulate_service function generates random arrival times and service times from exponential distributions and then simulates the service mechanism based on the described logic. The results for each customer's arrival time, service time, exit time, queueing time, and server idle time are printed. You can adjust the parameters like num_customers, mean_arrival_time, and mean_service_time to customize the simulation."
   ]
  },
  {
   "cell_type": "markdown",
   "id": "2227db17-35be-4f0b-90ba-de5eb5a71795",
   "metadata": {},
   "source": [
    "Multiple Server"
   ]
  },
  {
   "cell_type": "code",
   "execution_count": 24,
   "id": "e209ed12-382d-4c83-af24-fceae8a95544",
   "metadata": {},
   "outputs": [
    {
     "name": "stdout",
     "output_type": "stream",
     "text": [
      " Customer  Arrival Time  Service Time  Exit Time  Queueing Time  Server Idle Time  Total Time in System\n",
      "        1      2.346920      8.451766  10.798686       0.000000               0.0              8.451766\n",
      "        2      7.262545      2.570347  16.905175       3.536141               0.0              6.106489\n",
      "        3     10.759742      1.473902  24.524510       6.145433               0.0              7.619335\n",
      "        4     20.466490      3.092481  31.675012       4.058021               0.0              7.150502\n",
      "        5     25.841363      1.838868  39.347529       5.833649               0.0              7.672517\n",
      "        6     26.730628      2.366443  54.330873      12.616901               0.0             14.983344\n",
      "        7     27.096540      8.514381  90.079587      27.234333               0.0             35.748714\n",
      "        8     32.238511      1.463783 149.384446      57.841076               0.0             59.304859\n",
      "        9     32.372856      9.747276 276.143312     117.011590               0.0            126.758866\n",
      "       10     36.779593      7.072729 522.579760     239.363719               0.0            246.436448\n"
     ]
    }
   ],
   "source": [
    "import numpy as np\n",
    "import pandas as pd\n",
    "\n",
    "def simulate_service(num_customers, num_servers, mean_arrival_time, mean_service_time):\n",
    "    # Generate arrival times and service times from exponential distributions\n",
    "    arrival_times = np.cumsum(np.random.exponential(mean_arrival_time, num_customers))\n",
    "    service_times = np.random.exponential(mean_service_time, num_customers)\n",
    "\n",
    "    # Initialize arrays to store exit times, queueing times, and server idle times\n",
    "    exit_times = np.zeros(num_customers)\n",
    "    queueing_times = np.zeros(num_customers)\n",
    "    server_idle_times = np.zeros(num_customers)\n",
    "\n",
    "    # Initialize server availability status\n",
    "    server_available = np.ones(num_servers, dtype=bool)\n",
    "\n",
    "    # Simulate the service mechanism\n",
    "    for i in range(num_customers):\n",
    "        # Find an available server or join the queue\n",
    "        server_index = np.where(server_available)[0]\n",
    "        if len(server_index) > 0:\n",
    "            # Assign the customer to an available server\n",
    "            server_id = server_index[0]\n",
    "            server_available[server_id] = False\n",
    "\n",
    "            # Calculate queueing time (if any)\n",
    "            if i > 0 and exit_times[i - 1] > arrival_times[i]:\n",
    "                queueing_times[i] = exit_times[i - 1] - arrival_times[i]\n",
    "\n",
    "            # Calculate exit time\n",
    "            exit_times[i] = max(arrival_times[i], exit_times[i - 1]) + service_times[i] + queueing_times[i]\n",
    "\n",
    "            # Release the server after service completion\n",
    "            server_available[server_id] = True\n",
    "        else:\n",
    "            # All servers are busy, customer joins the queue\n",
    "            queueing_times[i] = exit_times[i - 1] - arrival_times[i]\n",
    "\n",
    "            # Calculate exit time considering queueing time\n",
    "            exit_times[i] = arrival_times[i] + service_times[i] + queueing_times[i]\n",
    "\n",
    "        # Calculate server idle time (if any)\n",
    "        if i > 0 and exit_times[i - 1] < arrival_times[i]:\n",
    "            server_idle_times[i] = arrival_times[i] - exit_times[i - 1]\n",
    "\n",
    "    total_time_in_system = service_times + queueing_times\n",
    "\n",
    "    return pd.DataFrame({\n",
    "        'Customer': range(1, num_customers + 1),\n",
    "        'Arrival Time': arrival_times,\n",
    "        'Service Time': service_times,\n",
    "        'Exit Time': exit_times,\n",
    "        'Queueing Time': queueing_times,\n",
    "        'Server Idle Time': server_idle_times,\n",
    "        'Total Time in System': total_time_in_system\n",
    "    })\n",
    "\n",
    "# Example usage\n",
    "num_customers = 10\n",
    "num_servers = 2\n",
    "mean_arrival_time = 5.0  # Mean arrival time for exponential distribution\n",
    "mean_service_time = 3.0  # Mean service time for exponential distribution\n",
    "\n",
    "simulation_result = simulate_service(num_customers, num_servers, mean_arrival_time, mean_service_time)\n",
    "\n",
    "print(simulation_result.to_string(index=False))\n"
   ]
  },
  {
   "cell_type": "raw",
   "id": "2525aba3-cc88-4c79-b2b9-a1706dcf16a9",
   "metadata": {},
   "source": [
    "The simulation  includes the concept of server availability, and customers are assigned to an available \n",
    "server or join the queue if all servers are busy."
   ]
  }
 ],
 "metadata": {
  "kernelspec": {
   "display_name": "Python 3 (ipykernel)",
   "language": "python",
   "name": "python3"
  },
  "language_info": {
   "codemirror_mode": {
    "name": "ipython",
    "version": 3
   },
   "file_extension": ".py",
   "mimetype": "text/x-python",
   "name": "python",
   "nbconvert_exporter": "python",
   "pygments_lexer": "ipython3",
   "version": "3.11.4"
  }
 },
 "nbformat": 4,
 "nbformat_minor": 5
}
