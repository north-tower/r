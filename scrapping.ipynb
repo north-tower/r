{
 "cells": [
  {
   "cell_type": "code",
   "execution_count": null,
   "id": "98f598a9",
   "metadata": {},
   "outputs": [],
   "source": [
    "# import statements\n",
    "import requests\n",
    "from bs4 import BeautifulSoup\n",
    "import pandas as pd"
   ]
  },
  {
   "cell_type": "code",
   "execution_count": null,
   "id": "da0d0f8a",
   "metadata": {},
   "outputs": [],
   "source": [
    "headers={'User-Agent':'Mozilla/5.0 (Windows NT 10.0; Win64; x64) AppleWebKit/537.36 (KHTML, like Gecko) Chrome/94.0.4606.81 Safari/537.36'}\n",
    "allist = []\n",
    "#Building the fuction\n",
    "def getProducts(page_url):   \n",
    "    #parameters:page_url\n",
    "     #Requesting for the pages       \n",
    "    r=requests.get(page_url, headers=headers)\n",
    "\n",
    "    soup=BeautifulSoup(r.text,'html.parser')\n",
    "            \n",
    "\n",
    "    description=soup.find_all('span',{'class':'search_result_lot_detail ng-star-inserted'} )\n",
    "                \n",
    "               \n",
    "    df=pd.DataFrame(description)\n",
    "    df.to_csv('scrapped.csv')\n",
    "           \n",
    "\n",
    "    df = pd.read_csv(\"scrapped.csv\")\n",
    "    df.head()\n",
    "    return df\n",
    " "
   ]
  },
  {
   "cell_type": "code",
   "execution_count": null,
   "id": "ea0ab96e",
   "metadata": {},
   "outputs": [],
   "source": [
    "#Calling the function\n",
    "page_url = 'https://www.copart.com/vehicleFinderSearch?searchStr=%7B%22MISC%22:%5B%22%23VehicleTypeCode:VEHTYPE_V%22,%22%23OdometerReading:%5B0%20TO%209999999%5D%22,%22%23LotYear:%5B2012%20TO%202023%5D%22%5D,%22sortByZip%22:false,%22buyerEnteredZip%22:null,%22milesAway%22:null%7D%20&displayStr=%5B0%20TO%209999999%5D,%5B2012%20TO%202023%5D&from=%2FvehicleFinder'\n",
    "getProducts(page_url)"
   ]
  }
 ],
 "metadata": {
  "kernelspec": {
   "display_name": "Python 3 (ipykernel)",
   "language": "python",
   "name": "python3"
  },
  "language_info": {
   "codemirror_mode": {
    "name": "ipython",
    "version": 3
   },
   "file_extension": ".py",
   "mimetype": "text/x-python",
   "name": "python",
   "nbconvert_exporter": "python",
   "pygments_lexer": "ipython3",
   "version": "3.10.4"
  }
 },
 "nbformat": 4,
 "nbformat_minor": 5
}
